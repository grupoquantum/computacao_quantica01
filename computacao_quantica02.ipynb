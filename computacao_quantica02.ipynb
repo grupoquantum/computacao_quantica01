{
 "cells": [
  {
   "cell_type": "markdown",
   "metadata": {},
   "source": [
    "<h3>COMPUTAÇÃO QUÂNTICA</h3>"
   ]
  },
  {
   "cell_type": "markdown",
   "metadata": {},
   "source": [
    "<h4>Importação da Classe e da Arquitetura de Conexão</h4>"
   ]
  },
  {
   "cell_type": "code",
   "execution_count": 3,
   "metadata": {},
   "outputs": [],
   "source": [
    "from Neuraline.QuantumPhysics.quantum_computing import QuantumCircuit # classe do circuito quântico\n",
    "from Neuraline.QuantumPhysics.quantum_computing import QUANTUM_COMPUTER # objeto de conexão com o computador quântico"
   ]
  },
  {
   "cell_type": "markdown",
   "metadata": {},
   "source": [
    "<h4>Construção do Estado de Sobreposição/Superposição Quântica</h4>"
   ]
  },
  {
   "cell_type": "code",
   "execution_count": 9,
   "metadata": {},
   "outputs": [
    {
     "name": "stdout",
     "output_type": "stream",
     "text": [
      "Conexão com o Computador Quântico estabelecida com SUCESSO!\n",
      "|Q0>: ───────────\n",
      "\n",
      "|Q1>: ───────H───\n",
      "╒══════╤═════════════════╤═══════════════╕\n",
      "│ ID   │ QUANTUM STATE   │ PROBABILITY   │\n",
      "╞══════╪═════════════════╪═══════════════╡\n",
      "│ 1    │ |10>            │ 0.5195312500  │\n",
      "├──────┼─────────────────┼───────────────┤\n",
      "│ 2    │ |00>            │ 0.4804687500  │\n",
      "├──────┼─────────────────┼───────────────┤\n",
      "│ 3    │ |01>            │ 0.0000000000  │\n",
      "├──────┼─────────────────┼───────────────┤\n",
      "│ 4    │ |11>            │ 0.0000000000  │\n",
      "╘══════╧═════════════════╧═══════════════╛\n",
      "qubits: [{'qubit': '|Q0>', 'gates': []}, {'qubit': '|Q1>', 'gates': ['H']}]\n",
      "quantum states: ['|00>', '|01>', '|10>', '|11>']\n",
      "measurement: {'|00>': 0.48046875, '|01>': 0.0, '|10>': 0.51953125, '|11>': 0.0}\n",
      "maximum probability state: |10>\n",
      "10101001111010010111110010010111001001101001011011100011100011000100101001011000100010101011010111010110100100101001000000001100\n",
      "01001011100110111010110111100110000100111100111001001111101010001110100011111111110001001001100000110110100001111010011011101011\n",
      "10011111011110100101101111010011110100100101100011111011011010101010001100000011000011010001000111111111001010001001110111100100\n",
      "10111001001011001110000011111001011100001110110000101100101101100101101000001001011001000111110000001010111011101100100101011101\n",
      "10010111010010000011100101100011011000100111110100110010010110011001001011001110010000101111100011010111010110011000010001101010\n",
      "00001101000011101101101100111111110010010011110010010000101100101111010010001111011000011010001010000011110111000110001000001110\n",
      "10111111011100111010001000111111000011110001010111001011010011101111011011111011000010011101111101011001001011101100100101010010\n",
      "11101011110011111000100110011100011101010100111000111011000111001111001110101001000011001111010100001011111011001110100011010010\n"
     ]
    },
    {
     "data": {
      "image/png": "[encoded data removed]",
      "text/plain": [
       "<Figure size 576x288 with 1 Axes>"
      ]
     },
     "metadata": {
      "needs_background": "light"
     },
     "output_type": "display_data"
    }
   ],
   "source": [
    "# Conexão Remota o Computador Quântico\n",
    "# conexão remota com um computador quântico de 5 qubits reais\n",
    "# alocações acima de 5 qubits irão manter 5 qubits reais e os qubits restantes serão simulados\n",
    "quantum_computing = QuantumCircuit( # instanciação do objeto da classe importada\n",
    "    architecture=QUANTUM_COMPUTER # arquitetura computacional de execução do algoritmo\n",
    ") # o algoritmo será executado com uma arquitetura quântica real\n",
    "if type(quantum_computing) == type(QuantumCircuit()): # verifica se a conexão foi bem estabelecida\n",
    "    print('Conexão com o Computador Quântico estabelecida com SUCESSO!') # mensagem de sucesso\n",
    "else: print('ERRO ao estabelecer a conexão com o Computador Quântico.') # mensagem de fracasso\n",
    "# construção da arquitetura do circuito quântico\n",
    "quantum_computing.setQubits( # alocação dos qubits no circuito quântico\n",
    "    nqubits=2 # número de qubits alocados\n",
    ")\n",
    "qubits = quantum_computing.getQubits() # captura os qubits alocados\n",
    "quantum_states = quantum_computing.getStates() # captura os estados quânticos possíveis\n",
    "# método que irá rotacionar o momento angular do qubit para o estado quântico Hadamard\n",
    "quantum_computing.addHadamardGATE( # porta quântica Hadamard Gate\n",
    "    qubitIndexName=1, # índice do qubit que receberá a porta lógica\n",
    "    exponent=1 # expoente potencial da matriz de construção da porta quântica\n",
    ")\n",
    "result = quantum_computing.showCircuit() # exibição da arquitetura do circuito quântico\n",
    "# aplicação do observador que irá colapsar a função de onda\n",
    "measurement = quantum_computing.measurement( # método de medição do sistema quântico\n",
    "    repetitions=1024 # número de medições\n",
    ") # o resultado final será a média de cada medição\n",
    "result = quantum_computing.getResult( # captura o resultado probabilístico\n",
    "    qubitIndexName=0 # índice do qubit para a medição inicial\n",
    ")\n",
    "show = quantum_computing.showMeasurement( # exibição da tabela de estados quânticos\n",
    "    measurement=measurement, # atribuição do resultado da medição do sistema quântico\n",
    "    save=False # True para salvar um arquivo texto com o resultado ou False para não salvar\n",
    ")\n",
    "# captura do resultado quântico mais provável\n",
    "maximum_probability_state = quantum_computing.getMaximumProbabilityState()\n",
    "# exibição dos valores quânticos capturados\n",
    "print(f'qubits: {qubits}')\n",
    "print(f'quantum states: {quantum_states}')\n",
    "print(f'measurement: {measurement}')\n",
    "print(f'maximum probability state: {maximum_probability_state}')\n",
    "# exibição dos qubits convertidos em código binário\n",
    "import textwrap # módula para quebra de linha\n",
    "wrapper = textwrap.TextWrapper( # método para quebra de linha\n",
    "    width=len(result)//8 # número máximo de elementos na lista de retorno\n",
    ")\n",
    "word_list = wrapper.wrap( # método para gerar a lista de retorno\n",
    "    text=result # string que será quebrada em elementos de uma lista\n",
    ") # os elementos da lista terão o tamanho máximo definido no parâmetro width\n",
    "for binaries in word_list: print(binaries) # loop para exibir os elementos quebrados\n",
    "# plotagem das probabilidades para os estados quânticos\n",
    "result = quantum_computing.plotMeasurement(\n",
    "    measurement=measurement, # atribuição do resultado da medição do sistema quântico\n",
    "    bar_values=True # True para exibir os valores das barras ou False para não exibir\n",
    ")"
   ]
  }
 ],
 "metadata": {
  "kernelspec": {
   "display_name": "Python 3.10.6 64-bit",
   "language": "python",
   "name": "python3"
  },
  "language_info": {
   "codemirror_mode": {
    "name": "ipython",
    "version": 3
   },
   "file_extension": ".py",
   "mimetype": "text/x-python",
   "name": "python",
   "nbconvert_exporter": "python",
   "pygments_lexer": "ipython3",
   "version": "3.10.6"
  },
  "orig_nbformat": 4,
  "vscode": {
   "interpreter": {
    "hash": "916dbcbb3f70747c44a77c7bcd40155683ae19c65e1c03b4aa3499c5328201f1"
   }
  }
 },
 "nbformat": 4,
 "nbformat_minor": 2
}
