{
 "cells": [
  {
   "attachments": {},
   "cell_type": "markdown",
   "metadata": {},
   "source": [
    "<h3>SIMULAÇÃO DE COMPUTAÇÃO QUÂNTICA COM PYTHON PURO</h3>\n",
    "<hr>"
   ]
  },
  {
   "attachments": {},
   "cell_type": "markdown",
   "metadata": {},
   "source": [
    "<h4>Criação das Portas Quânticas de 1 e 2 Qubits</h4>"
   ]
  },
  {
   "attachments": {},
   "cell_type": "markdown",
   "metadata": {},
   "source": [
    "<p align=\"justify\">As portas quânticas (ou quantum gates) são matrizes com binários (0 ou 1), -1 em alguns casos raros, ou números complexos que na Mecânica Quântica representam a parte imaginária com i, mas aqui na computação quântica a parte imaginária é representada por j seguindo a notação de números complexos do python. Para facilitar as operações matriciais podemos usar o pacote numpy que transforma matrizes em dados do tipo array. As portas quânticas serão multiplicadas pelos estados iniciais dos Qubits, geralmente estados |0⟩ ([[1], [0]]) ou |1⟩ ([[0], [1]]), essa multiplicação normalmente usará um produto escalar seguido de um produto tensorial de kronecker.</p>\n",
    "<br>\n",
    "<p align=\"justify\">Por exemplo, para aplicarmos a porta quântica Hadamard a um Qubit de estado quântico |0⟩ (com spin para cima) em um circuito de 2 Qubits, teremos a expressão: |ψ⟩ = (H * |0⟩) ⊗ |0⟩\n",
    "</p>"
   ]
  },
  {
   "cell_type": "code",
   "execution_count": 1,
   "metadata": {},
   "outputs": [
    {
     "name": "stdout",
     "output_type": "stream",
     "text": [
      "portas quânticas criadas com sucesso.\n"
     ]
    }
   ],
   "source": [
    "import numpy as np # importação da biblioteca de cálculos matriciais numpy\n",
    "# portas quânticas disponíveis\n",
    "# portas quânticas de 1 qubit\n",
    "# pauli-x é uma porta de 1 qubit que aplica a matriz de pauli-x, que é uma das três matrizes de pauli e representa uma rotação em torno do eixo x do espaço quântico\n",
    "pauli_x = np.array([[0, 1], [1, 0]])\n",
    "# pauli-y é uma porta de 1 qubit que aplica a matriz de pauli-y, que é uma das três matrizes de pauli e representa uma rotação em torno do eixo y do espaço quântico\n",
    "pauli_y = np.array([[0, -1j], [1j, 0]])\n",
    "# pauli-z é uma porta de 1 qubit que aplica a matriz de pauli-z, que é uma das três matrizes de pauli e representa uma rotação em torno do eixo z do espaço quântico\n",
    "pauli_z = np.array([[1, 0], [0, -1]])\n",
    "# hadamard é uma porta de 1 qubit que aplica a matriz de hadamard, que é uma das portas quânticas mais básicas e produz uma superposição entre os estados |0⟩ e |1⟩\n",
    "hadamard = (1 / np.sqrt(2)) * np.array([[1, 1], [1, -1]])\n",
    "# phase-s é uma porta de 1 qubit que aplica a matriz de fase s, com uma fase de 90 graus em |1⟩\n",
    "phase_s = np.array([[1, 0], [0, 1j]])\n",
    "# phase-t é uma porta de 1 qubit que aplica a matriz de fase t, com uma fase de 45 graus em |1⟩\n",
    "phase_t = np.array([[1, 0], [0, np.exp(1j * np.pi/4)]])\n",
    "# portas quânticas de 2 qubits\n",
    "# cnot é uma porta de 2 qubits que representa uma porta not controlada, onde o estado do primeiro qubit é usado como controle para inverter o estado do segundo qubit\n",
    "cnot = np.array([[1, 0, 0, 0], [0, 1, 0, 0], [0, 0, 0, 1], [0, 0, 1, 0]])\n",
    "# cz é uma porta de 2 qubits que representa um operador cz (z controlado), onde o estado do primeiro qubit é usado como controle para aplicar uma fase de 180 graus no estado do segundo qubit se o estado do primeiro qubit for |1⟩\n",
    "cz = np.array([[1, 0, 0, 0], [0, 1, 0, 0], [0, 0, 1, 0], [0, 0, 0, -1]])\n",
    "# parity-xx é uma porta de 2 qubits que aplica o operador de paridade xx, com uma combinação de duas portas x aplicadas a cada qubit\n",
    "parity_xx = np.array([[1, 0, 0, 0], [0, 0, 0, 1], [0, 0, 1, 0], [0, 1, 0, 0]])\n",
    "# parity-yy é uma porta de 2 qubits que aplica o operador de paridade yy, com uma combinação de duas portas y aplicadas a cada qubit\n",
    "parity_yy = np.array([[1, 0, 0, 0], [0, -1, 0, 0], [0, 0, -1, 0], [0, 0, 0, 1]])\n",
    "# parity-zz é uma porta de 2 qubits que aplica o operador de paridade zz, com uma combinação de duas portas z aplicadas a cada qubit\n",
    "parity_zz = np.array([[1, 0, 0, 0], [0, -1, 0, 0], [0, 0, -1, 0], [0, 0, 0, 1]])\n",
    "# swap é uma porta de 2 qubits que representa o operador swap, que permuta o estado dos dois qubits\n",
    "swap = np.array([[1, 0, 0, 0], [0, 0, 1, 0], [0, 1, 0, 0], [0, 0, 0, 1]])\n",
    "# i-swap é uma porta de 2 qubits que representa o operador iswap, que é uma variação da porta swap\n",
    "i_swap = np.array([[1, 0, 0, 0], [0, 0, 1j, 0], [0, 1j, 0, 0], [0, 0, 0, 1]])\n",
    "# portas quânticas de 3 qubits\n",
    "'''\n",
    "# toffoli é uma porta quântica de 3 qubits que implementa a operação condicional not, invertendo o estado de um qubit se e somente se os dois outros qubits estiverem em um estado específico\n",
    "toffoli = np.array([[1, 0, 0, 0, 0, 0, 0, 0],\n",
    "                    [0, 1, 0, 0, 0, 0, 0, 0],\n",
    "                    [0, 0, 1, 0, 0, 0, 0, 0],\n",
    "                    [0, 0, 0, 1, 0, 0, 0, 0],\n",
    "                    [0, 0, 0, 0, 1, 0, 0, 0],\n",
    "                    [0, 0, 0, 0, 0, 1, 0, 0],\n",
    "                    [0, 0, 0, 0, 0, 0, 0, 1],\n",
    "                    [0, 0, 0, 0, 0, 0, 1, 0]])\n",
    "# ccz (controlled-controlled-z) é uma porta quântica de 3 qubits que implementa uma operação de condicionamento múltiplo, aplicando um operador z ao qubit alvo se e somente se os dois outros qubits estiverem em um estado específico                  \n",
    "ccz = np.array([[1, 0, 0, 0, 0, 0, 0, 0],\n",
    "                [0, 1, 0, 0, 0, 0, 0, 0],\n",
    "                [0, 0, 1, 0, 0, 0, 0, 0],\n",
    "                [0, 0, 0, 1, 0, 0, 0, 0],\n",
    "                [0, 0, 0, 0, 1, 0, 0, 0],\n",
    "                [0, 0, 0, 0, 0, 1, 0, 0],\n",
    "                [0, 0, 0, 0, 0, 0, 1, 0],\n",
    "                [0, 0, 0, 0, 0, 0, 0, -1]])\n",
    "# fredkin é uma porta quântica de 3 qubits que implementa uma operação de troca condicional de qubits, ela troca o estado de dois qubits se e somente se um terceiro qubit estiver em um estado específico                \n",
    "fredkin = np.array([[1, 0, 0, 0], [0, 1, 0, 0], [0, 0, 0, 1], [0, 0, 1, 0]])\n",
    "'''\n",
    "print('portas quânticas criadas com sucesso.')"
   ]
  },
  {
   "attachments": {},
   "cell_type": "markdown",
   "metadata": {},
   "source": [
    "<h4>Criação da Função para a Simulação de um Circuito Quântico de 2 Qubits</h4>"
   ]
  },
  {
   "attachments": {},
   "cell_type": "markdown",
   "metadata": {},
   "source": [
    "<p align=\"justify\">Os circuitos quânticos operam com dois tipos de cálculos: produtos escalares e produtos tensoriais de kronecker</p>\n",
    "<br>\n",
    "<p align=\"justify\">O <b>produto Vetorial</b>, também conhecido como <b>produto Escalar</b> é um tipo de operação vetorial multiplicativa envolvendo vetores (1 dimensão) ou matrizes (2 dimensões). No caso de vetores com apenas uma dimensão o resultado será a multiplicação dos elementos de mesma posição.\n",
    "<br>\n",
    "O produto Vetorial/Escalar é representado por . ou * (dot), confira abaixo um exemplo com vetores bidimensionais:\n",
    "<br>\n",
    "[[1, 2], [3, 4]] . [[11, 12], [13, 14]] => [[1*11+2*13, 1*12+2*14], [3*11+4*13, 3*12+4*14]] = [[37, 40], [85, 92]]\n",
    "</p>\n",
    "<br>\n",
    "<p align=\"justify\">O <b>produto Kronecker</b> é um tipo de operação tensorial multiplicativa envolvendo vetores (1 dimensão), matrizes (2 dimensões) ou tensores (3 ou mais dimensões)\n",
    "<br>\n",
    "O produto Kronecker é representado pelo símbolo ⊗ e na Mecânica Quântica é aplicado principalmente a estados quânticos, por exemplo: |0⟩ ⊗ |1⟩</p>\n",
    "<p align=\"justify\">Exemplo de multiplicação Kronecker: [1, 2, 3] ⊗ [5, 10, 15] => [(1*5), (1*10), (1*15), (2*5), (2*10), (2*15), (3*5), (3*10), (3*15)] = [5, 10, 15, 10, 20, 30, 15, 30, 45]</p>\n",
    "<p align=\"justify\">Na Computação Quântica o produto Kronecker de dois Qubits inicializados com Spin-Up |0⟩ é |0⟩ ⊗ |0⟩ = |0 0⟩\n",
    "<br>\n",
    "A expressão |0⟩ ⊗ |0⟩ = |0 0⟩ equivale a [[1], [0]] ⊗ [[1], [0]] => [[1*1], [1*0], [0*1], [0*0]] = [[1], [0], [0], [0]]\n",
    "</p>"
   ]
  },
  {
   "cell_type": "code",
   "execution_count": 26,
   "metadata": {},
   "outputs": [],
   "source": [
    "'''\n",
    "obs: o produto de kronecker é uma operação matemática que permite multiplicar matrizes. no contexto de qubits, o produto de kronecker entre dois estados de qubits pode ser utilizado para calcular o estado resultante de dois qubits quando se opera com eles\n",
    "\n",
    "por exemplo, o produto de kronecker entre dois qubits de estado |0⟩ é: |0⟩ ⊗ |0⟩ = |0 0⟩\n",
    "o mesmo equivale a [[1], [0]] ⊗ [[1], [0]] = [[1], [0], [0], [0]]\n",
    "'''\n",
    "def circuito(porta_quantica, qubit=1): # definição da função construtora do circuito quântico\n",
    "    # inicialização do estado quântico |0⟩\n",
    "    qubit1 = np.array([[1], [0]]) # spin up para o primeiro qubit\n",
    "    qubit2 = np.array([[1], [0]]) # spin up para o segundo qubit\n",
    "    # aplicação do porta quântica\n",
    "    if len(porta_quantica) > 2: # se a matriz possuir mais de dois vetores, então usa o primeiro qubit como controlador e o segundo como alvo\n",
    "        qubit_inicial = np.kron(qubit1, qubit2) # aplica o produto de kronecker (que é uma especialização do produto tensorial), equivale a |0⟩ ⊗ |0⟩ (ou [[1], [0]] ⊗ [[1], [0]])\n",
    "        qubit_resultado = np.dot(porta_quantica, qubit_inicial) # calcula o produto do resultado anterior com a matriz da porta quântica\n",
    "    else: # se a matriz possuir somente dois vetores, então aplica a porta quântica ao qubit referenciado no segundo parâmetro da função\n",
    "        if qubit == 1: # se o segundo parâmetro for 1, então aplica a porta quântica ao primeiro qubit\n",
    "            qubit_resultado = np.dot(porta_quantica, qubit1) # calcula o produto da matriz da porta quântica com o primeiro qubit\n",
    "            qubit_resultado = np.kron(qubit_resultado, qubit2) # calcula o produto de kronecker do resultado anterior com o qubit restante\n",
    "        else: # se o segundo parâmetro for 2, então aplica a porta quântica ao segundo qubit\n",
    "            qubit_resultado = np.dot(porta_quantica, qubit2) # calcula o produto da matriz da porta quântica com o segundo qubit\n",
    "            qubit_resultado = np.kron(qubit1, qubit_resultado) # calcula o produto de kronecker do resultado anterior com o qubit restante\n",
    "    # pela regra de niels bohr, a probabilidade de se obter um resultado particular de um sistema quântico é dada pelo módulo quadrado da amplitude de onda associada ao resultado\n",
    "    probabilidade = np.abs(qubit_resultado) ** 2 # aplicação da regra de born P(|x⟩) = |⟨x|ψ⟩| ^ 2\n",
    "    # exibição do resultado probabilístico para os estados quânticos possíveis\n",
    "    print(\"Probabilidade para o estado |00>: \", probabilidade[0][0])\n",
    "    print(\"Probabilidade para o estado |01>: \", probabilidade[1][0])\n",
    "    print(\"Probabilidade para o estado |10>: \", probabilidade[2][0])\n",
    "    print(\"Probabilidade para o estado |11>: \", probabilidade[3][0])"
   ]
  },
  {
   "attachments": {},
   "cell_type": "markdown",
   "metadata": {},
   "source": [
    "<h4>Chamada do Circuito com a Porta Quãntica e a Posição do Qubit Receptor</h4>"
   ]
  },
  {
   "attachments": {},
   "cell_type": "markdown",
   "metadata": {},
   "source": [
    "<p align=\"justify\">O resultado probabilístico para os estados quânticos de um circuito é dado pela Regra de Born. Essa regra estabelece que devemos modularizar (tornar absoluto) o resultado das operações matriciais e elevar essa modularização ao quadrado. A expressão probabilística de Born é dada por P(|x⟩) = |⟨x|ψ⟩| ^ 2</p>"
   ]
  },
  {
   "cell_type": "code",
   "execution_count": 27,
   "metadata": {},
   "outputs": [
    {
     "name": "stdout",
     "output_type": "stream",
     "text": [
      "Probabilidade para o estado |00>:  0.4999999999999999\n",
      "Probabilidade para o estado |01>:  0.4999999999999999\n",
      "Probabilidade para o estado |10>:  0.0\n",
      "Probabilidade para o estado |11>:  0.0\n"
     ]
    }
   ],
   "source": [
    "# chamada da função de construção do circuito quântico\n",
    "circuito(porta_quantica=hadamard, qubit=2) # define a porta quântico no primeiro parâmetro e o qubit que receberá a porta no segundo"
   ]
  }
 ],
 "metadata": {
  "kernelspec": {
   "display_name": "Python 3 (ipykernel)",
   "language": "python",
   "name": "python3"
  },
  "language_info": {
   "codemirror_mode": {
    "name": "ipython",
    "version": 3
   },
   "file_extension": ".py",
   "mimetype": "text/x-python",
   "name": "python",
   "nbconvert_exporter": "python",
   "pygments_lexer": "ipython3",
   "version": "3.10.6"
  },
  "orig_nbformat": 4,
  "vscode": {
   "interpreter": {
    "hash": "916dbcbb3f70747c44a77c7bcd40155683ae19c65e1c03b4aa3499c5328201f1"
   }
  }
 },
 "nbformat": 4,
 "nbformat_minor": 2
}
