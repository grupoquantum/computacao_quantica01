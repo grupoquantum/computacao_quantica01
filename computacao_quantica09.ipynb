{
 "cells": [
  {
   "attachments": {},
   "cell_type": "markdown",
   "metadata": {},
   "source": [
    "<h3>COMPUTAÇÃO QUÂNTICA</h3>\n",
    "<hr>"
   ]
  },
  {
   "attachments": {},
   "cell_type": "markdown",
   "metadata": {},
   "source": [
    "<h4>OPERAÇÕES VETORIAIS EM CIRCUITOS QUÂNTICOS</h4>"
   ]
  },
  {
   "attachments": {},
   "cell_type": "markdown",
   "metadata": {},
   "source": [
    "<h3>Portas Unitárias de Circuito com Valores Iguais</h3>"
   ]
  },
  {
   "cell_type": "code",
   "execution_count": 16,
   "metadata": {},
   "outputs": [
    {
     "name": "stdout",
     "output_type": "stream",
     "text": [
      "Conexão com o Computador Quântico estabelecida com SUCESSO!\n",
      "|Q0>: ───────(2.0)───Σ───(3.0)───\n",
      "                     │\n",
      "|Q1>: ───────(2.0)───Σ───(3.0)───\n",
      "                     │\n",
      "|Q2>: ───────(2.0)───Σ───(3.0)───\n",
      "                     │\n",
      "|Q3>: ───────(2.0)───Σ───(3.0)───\n",
      "╒══════╤═════════════════╤═══════════════╕\n",
      "│ ID   │ QUANTUM STATE   │ PROBABILITY   │\n",
      "╞══════╪═════════════════╪═══════════════╡\n",
      "│ 1    │ |5, 5, 5, 5>    │ 000000000001  │\n",
      "╘══════╧═════════════════╧═══════════════╛\n",
      "resultado clássico da operação quântica: [2, 2, 2, 2] + [3, 3, 3, 3] = [5, 5, 5, 5]\n"
     ]
    }
   ],
   "source": [
    "from Neuraline.QuantumPhysics.quantum_computing import QuantumCircuit # classe do circuito quântico\n",
    "from Neuraline.QuantumPhysics.quantum_computing import QUANTUM_COMPUTER # objeto de conexão com o computador quântico\n",
    "# Conexão Remota com o Computador Quântico\n",
    "quantum_computing = QuantumCircuit(architecture=QUANTUM_COMPUTER) # instanciação do objeto quântico\n",
    "if type(quantum_computing) == type(QuantumCircuit()): # verifica se a conexão foi bem sucedida\n",
    "    print('Conexão com o Computador Quântico estabelecida com SUCESSO!') # mensagem de sucesso\n",
    "else: print('ERRO ao estabelecer a conexão com o Computador Quântico.') # mensagem de fracasso\n",
    "# construção da arquitetura do circuito quântico\n",
    "nqubits = 4 # número de qubits no circuito quântico\n",
    "result = quantum_computing.setQubits(nqubits=nqubits) # alocação dos qubits no circuito quântico\n",
    "number1 = 2 # valor clássico do primeiro número\n",
    "number2 = 3 # valor clássico do segundo número\n",
    "for index in range(nqubits):\n",
    "    quantum_computing.addUnitaryGate(qubitIndexName=index, value=number1) # adiciona uma porta quântica de valor unitário\n",
    "result = quantum_computing.addSumBarrier() # adiciona um barramento quântico de soma\n",
    "for index in range(nqubits):\n",
    "    quantum_computing.addUnitaryGate(qubitIndexName=index, value=number2) # adiciona uma porta quântica de valor unitário\n",
    "# processamento do resultado final calculado\n",
    "result = quantum_computing.showCircuit() # exibição da arquitetura do circuito quântico\n",
    "result = quantum_computing.measurement() # medição do sistema quântico (medição do observador)\n",
    "result = quantum_computing.showMeasurement() # exibição dos estados quânticos de resultado\n",
    "result = quantum_computing.getResult(qubitIndexName=0) # captura do resultado clássico obtido\n",
    "arrayA = [number1 for _ in range(nqubits)] # vetor de exibição para o primeiro número\n",
    "arrayB = [number2 for _ in range(nqubits)] # vetor de exibição para o segundo número\n",
    "print(f'resultado clássico da operação quântica: {arrayA} + {arrayB} = {result}') # exibição do resultado final"
   ]
  },
  {
   "attachments": {},
   "cell_type": "markdown",
   "metadata": {},
   "source": [
    "<h3>Portas Unitárias de Circuito com Valores Diferentes</h3>"
   ]
  },
  {
   "cell_type": "code",
   "execution_count": 17,
   "metadata": {},
   "outputs": [
    {
     "name": "stdout",
     "output_type": "stream",
     "text": [
      "Conexão com o Computador Quântico estabelecida com SUCESSO!\n",
      "|Q0>: ───────(100.0)───⁒───(4.0)───\n",
      "                       │\n",
      "|Q1>: ───────(200.0)───⁒───(2.0)───\n",
      "╒══════╤═════════════════╤═══════════════╕\n",
      "│ ID   │ QUANTUM STATE   │ PROBABILITY   │\n",
      "╞══════╪═════════════════╪═══════════════╡\n",
      "│ 1    │ |25.0, 100.0>   │ 000000000001  │\n",
      "╘══════╧═════════════════╧═══════════════╛\n",
      "resultado clássico da operação quântica: [100, 200] ⁒ [4, 2] = [25.0, 100.0]\n"
     ]
    }
   ],
   "source": [
    "from Neuraline.QuantumPhysics.quantum_computing import QuantumCircuit # classe do circuito quântico\n",
    "from Neuraline.QuantumPhysics.quantum_computing import QUANTUM_COMPUTER # objeto de conexão com o computador quântico\n",
    "# Conexão Remota com o Computador Quântico\n",
    "quantum_computing = QuantumCircuit(architecture=QUANTUM_COMPUTER) # instanciação do objeto quântico\n",
    "if type(quantum_computing) == type(QuantumCircuit()): # verifica se a conexão foi bem sucedida\n",
    "    print('Conexão com o Computador Quântico estabelecida com SUCESSO!') # mensagem de sucesso\n",
    "else: print('ERRO ao estabelecer a conexão com o Computador Quântico.') # mensagem de fracasso\n",
    "# construção da arquitetura do circuito quântico\n",
    "nqubits = 2 # número de qubits no circuito quântico\n",
    "result = quantum_computing.setQubits(nqubits=nqubits) # alocação dos qubits no circuito quântico\n",
    "result = quantum_computing.addUnitaryGate(qubitIndexName=0, value=100) # adiciona uma porta quântica de valor unitário\n",
    "result = quantum_computing.addUnitaryGate(qubitIndexName=1, value=200) # adiciona uma porta quântica de valor unitário\n",
    "result = quantum_computing.addDivisionBarrier() # adiciona um barramento quântico de divisão\n",
    "result = quantum_computing.addUnitaryGate(qubitIndexName=0, value=4) # adiciona uma porta quântica de valor unitário\n",
    "result = quantum_computing.addUnitaryGate(qubitIndexName=1, value=2) # adiciona uma porta quântica de valor unitário\n",
    "# processamento do resultado final calculado\n",
    "result = quantum_computing.showCircuit() # exibição da arquitetura do circuito quântico\n",
    "result = quantum_computing.measurement() # medição do sistema quântico (medição do observador)\n",
    "result = quantum_computing.showMeasurement() # exibição dos estados quânticos de resultado\n",
    "result = quantum_computing.getResult(qubitIndexName=0) # captura do resultado clássico obtido\n",
    "arrayA = [100, 200] # vetor de exibição para o primeiro número\n",
    "arrayB = [4, 2] # vetor de exibição para o segundo número\n",
    "print(f'resultado clássico da operação quântica: {arrayA} ⁒ {arrayB} = {result}') # exibição do resultado final"
   ]
  },
  {
   "attachments": {},
   "cell_type": "markdown",
   "metadata": {},
   "source": [
    "<h3>Barramentos Para Variáveis de Circuito (A/B)</h3>"
   ]
  },
  {
   "cell_type": "code",
   "execution_count": 18,
   "metadata": {},
   "outputs": [
    {
     "name": "stdout",
     "output_type": "stream",
     "text": [
      "Conexão com o Computador Quântico estabelecida com SUCESSO!\n",
      "|Q0>: ───────|A>───Σ───|B>───\n",
      "             │     │   │\n",
      "|Q1>: ───────|A>───Σ───|B>───\n",
      "             │     │   │\n",
      "|Q2>: ───────|A>───Σ───|B>───\n",
      "             │     │   │\n",
      "|Q3>: ───────|A>───Σ───|B>───\n",
      "╒══════╤═════════════════╤═══════════════╕\n",
      "│ ID   │ QUANTUM STATE   │ PROBABILITY   │\n",
      "╞══════╪═════════════════╪═══════════════╡\n",
      "│ 1    │ |5, 5, 5, 5>    │ 000000000001  │\n",
      "╘══════╧═════════════════╧═══════════════╛\n",
      "resultado clássico da operação quântica: [2, 2, 2, 2] + [3, 3, 3, 3] = [5, 5, 5, 5]\n"
     ]
    }
   ],
   "source": [
    "from Neuraline.QuantumPhysics.quantum_computing import QuantumCircuit # classe do circuito quântico\n",
    "from Neuraline.QuantumPhysics.quantum_computing import QUANTUM_COMPUTER # objeto de conexão com o computador quântico\n",
    "# Conexão Remota com o Computador Quântico\n",
    "quantum_computing = QuantumCircuit(architecture=QUANTUM_COMPUTER) # instanciação do objeto quântico\n",
    "if type(quantum_computing) == type(QuantumCircuit()): # verifica se a conexão foi bem sucedida\n",
    "    print('Conexão com o Computador Quântico estabelecida com SUCESSO!') # mensagem de sucesso\n",
    "else: print('ERRO ao estabelecer a conexão com o Computador Quântico.') # mensagem de fracasso\n",
    "# construção da arquitetura do circuito quântico\n",
    "nqubits = 4 # número de qubits no circuito quântico\n",
    "result = quantum_computing.setQubits(nqubits=nqubits) # alocação dos qubits no circuito quântico\n",
    "variableA = 2 # valor clássico da variável de circuito A\n",
    "variableB = 3 # valor clássico da variável de circuito B\n",
    "result = quantum_computing.addEncoderA(value=variableA) # adiciona um barramento para a variável A\n",
    "result = quantum_computing.addSumBarrier() # adiciona um barramento quântico de soma para retornar |A> + |B>\n",
    "result = quantum_computing.addEncoderB(value=variableB) # adiciona um barramento para a variável B\n",
    "# processamento do resultado final calculado\n",
    "result = quantum_computing.showCircuit() # exibição da arquitetura do circuito quântico\n",
    "result = quantum_computing.measurement() # medição do sistema quântico (medição do observador)\n",
    "result = quantum_computing.showMeasurement() # exibição dos estados quânticos de resultado\n",
    "result = quantum_computing.getResult(qubitIndexName=0) # captura do resultado clássico obtido\n",
    "arrayA = [variableA for _ in range(nqubits)] # vetor de exibição para A\n",
    "arrayB = [variableB for _ in range(nqubits)] # vetor de exibição para B\n",
    "print(f'resultado clássico da operação quântica: {arrayA} + {arrayB} = {result}') # exibição do resultado final"
   ]
  },
  {
   "attachments": {},
   "cell_type": "markdown",
   "metadata": {},
   "source": [
    "<h3>Unidades Vetoriais entre Barramentos</h3>"
   ]
  },
  {
   "cell_type": "code",
   "execution_count": 19,
   "metadata": {},
   "outputs": [
    {
     "name": "stdout",
     "output_type": "stream",
     "text": [
      "Conexão com o Computador Quântico estabelecida com SUCESSO!\n",
      "|Q0>: ───────(100.0)───(200.0)───⁒───(4.0)───────────\n",
      "                                 │\n",
      "|Q1>: ───────(400.0)─────────────⁒───(2.0)───(2.0)───\n",
      "╒══════╤══════════════════════╤═══════════════╕\n",
      "│ ID   │ QUANTUM STATE        │ PROBABILITY   │\n",
      "╞══════╪══════════════════════╪═══════════════╡\n",
      "│ 1    │ |25.0, 100.0, 200.0> │ 000000000001  │\n",
      "╘══════╧══════════════════════╧═══════════════╛\n",
      "resultado clássico da operação quântica: [100, 200, 400] ⁒ [4, 2, 2] = [25.0, 100.0, 200.0]\n"
     ]
    }
   ],
   "source": [
    "from Neuraline.QuantumPhysics.quantum_computing import QuantumCircuit # classe do circuito quântico\n",
    "from Neuraline.QuantumPhysics.quantum_computing import QUANTUM_COMPUTER # objeto de conexão com o computador quântico\n",
    "# Conexão Remota com o Computador Quântico\n",
    "quantum_computing = QuantumCircuit(architecture=QUANTUM_COMPUTER) # instanciação do objeto quântico\n",
    "if type(quantum_computing) == type(QuantumCircuit()): # verifica se a conexão foi bem sucedida\n",
    "    print('Conexão com o Computador Quântico estabelecida com SUCESSO!') # mensagem de sucesso\n",
    "else: print('ERRO ao estabelecer a conexão com o Computador Quântico.') # mensagem de fracasso\n",
    "# construção da arquitetura do circuito quântico\n",
    "nqubits = 2 # número de qubits no circuito quântico\n",
    "result = quantum_computing.setQubits(nqubits=nqubits) # alocação dos qubits no circuito quântico\n",
    "result = quantum_computing.addUnitaryGate(qubitIndexName=0, value=100) # adiciona uma porta quântica de valor unitário\n",
    "result = quantum_computing.addUnitaryGate(qubitIndexName=0, value=200) # adiciona uma porta quântica de valor unitário\n",
    "result = quantum_computing.addUnitaryGate(qubitIndexName=1, value=400) # adiciona uma porta quântica de valor unitário\n",
    "result = quantum_computing.addDivisionBarrier() # adiciona um barramento quântico de divisão\n",
    "result = quantum_computing.addUnitaryGate(qubitIndexName=0, value=4) # adiciona uma porta quântica de valor unitário\n",
    "result = quantum_computing.addUnitaryGate(qubitIndexName=1, value=2) # adiciona uma porta quântica de valor unitário\n",
    "result = quantum_computing.addUnitaryGate(qubitIndexName=1, value=2) # adiciona uma porta quântica de valor unitário\n",
    "# processamento do resultado final calculado\n",
    "result = quantum_computing.showCircuit() # exibição da arquitetura do circuito quântico\n",
    "result = quantum_computing.measurement() # medição do sistema quântico (medição do observador)\n",
    "result = quantum_computing.showMeasurement() # exibição dos estados quânticos de resultado\n",
    "result = quantum_computing.getResult(qubitIndexName=0) # captura do resultado clássico obtido\n",
    "arrayA = [100, 200, 400] # vetor de exibição para o primeiro número\n",
    "arrayB = [4, 2, 2] # vetor de exibição para o segundo número\n",
    "print(f'resultado clássico da operação quântica: {arrayA} ⁒ {arrayB} = {result}') # exibição do resultado final"
   ]
  }
 ],
 "metadata": {
  "kernelspec": {
   "display_name": "Python 3",
   "language": "python",
   "name": "python3"
  },
  "language_info": {
   "codemirror_mode": {
    "name": "ipython",
    "version": 3
   },
   "file_extension": ".py",
   "mimetype": "text/x-python",
   "name": "python",
   "nbconvert_exporter": "python",
   "pygments_lexer": "ipython3",
   "version": "3.10.6"
  },
  "orig_nbformat": 4
 },
 "nbformat": 4,
 "nbformat_minor": 2
}
