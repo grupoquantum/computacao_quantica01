{
 "cells": [
  {
   "cell_type": "markdown",
   "metadata": {},
   "source": [
    "<h3>COMPUTAÇÃO QUÂNTICA</h3>"
   ]
  },
  {
   "cell_type": "markdown",
   "metadata": {},
   "source": [
    "<h4>Importação da Classe e das Arquiteturas de Conexão</h4>"
   ]
  },
  {
   "cell_type": "code",
   "execution_count": 9,
   "metadata": {},
   "outputs": [],
   "source": [
    "from Neuraline.QuantumPhysics.quantum_computing import QuantumCircuit # importação da classe do circuito quântico\n",
    "from Neuraline.QuantumPhysics.quantum_computing import CLASSICAL_COMPUTER, QUANTUM_SIMULATOR, QUANTUM_COMPUTER # importação dos objetos de conexão"
   ]
  },
  {
   "cell_type": "markdown",
   "metadata": {},
   "source": [
    "<h4>Conexão com a Máquina Local</h4>"
   ]
  },
  {
   "cell_type": "code",
   "execution_count": 10,
   "metadata": {},
   "outputs": [],
   "source": [
    "# conexão com a máquina local que irá simular o circuito quântico\n",
    "quantum_computing = QuantumCircuit() # instanciação do objeto da classe importada"
   ]
  },
  {
   "cell_type": "code",
   "execution_count": 17,
   "metadata": {},
   "outputs": [],
   "source": [
    "# conexão com a máquina local que irá simular o circuito quântico\n",
    "quantum_computing = QuantumCircuit( # instanciação do objeto da classe importada\n",
    "    architecture=CLASSICAL_COMPUTER # arquitetura computacional de execução do algoritmo\n",
    ")"
   ]
  },
  {
   "cell_type": "markdown",
   "metadata": {},
   "source": [
    "<h4>Conexão Remota com um Supercomputador Clássico que irá Simular o Circuito Quântico</h4>"
   ]
  },
  {
   "cell_type": "code",
   "execution_count": 19,
   "metadata": {},
   "outputs": [],
   "source": [
    "# conexão remota com um supercomputador clássico adaptado para simular fenômenos quânticos\n",
    "quantum_computing = QuantumCircuit( # instanciação do objeto da classe importada\n",
    "    architecture=QUANTUM_SIMULATOR # arquitetura computacional de execução do algoritmo\n",
    ")"
   ]
  },
  {
   "cell_type": "markdown",
   "metadata": {},
   "source": [
    "<h4>Conexão Remota com um Computador Quântico Real</h4>"
   ]
  },
  {
   "cell_type": "code",
   "execution_count": 21,
   "metadata": {},
   "outputs": [],
   "source": [
    "# conexão remota com um computador quântico de 5 qubits reais\n",
    "# alocações acima de 5 qubits irão manter 5 qubits reais e os qubits restantes serão simulados\n",
    "quantum_computing = QuantumCircuit( # instanciação do objeto da classe importada\n",
    "    architecture=QUANTUM_COMPUTER # arquitetura computacional de execução do algoritmo\n",
    ")"
   ]
  },
  {
   "cell_type": "code",
   "execution_count": 22,
   "metadata": {},
   "outputs": [
    {
     "name": "stdout",
     "output_type": "stream",
     "text": [
      "|Q0>: ───────Olá mundo quântico!───\n"
     ]
    }
   ],
   "source": [
    "quantum_computing.setQubits( # método de alocação de qubits na construção do circuito quântico\n",
    "    nqubits=1 # número de qubits alocados\n",
    ")\n",
    "quantum_computing.addCommentGate( # adiciona uma porta quântica de comentário\n",
    "    qubitIndexName=0, # qubit que receberá a porta lógica\n",
    "    comment='Olá mundo quântico!' # comentário da porta quântica\n",
    ")\n",
    "result = quantum_computing.showCircuit() # exibição do resultado gráfico da arquitetura do circuito"
   ]
  }
 ],
 "metadata": {
  "kernelspec": {
   "display_name": "Python 3.10.6 64-bit",
   "language": "python",
   "name": "python3"
  },
  "language_info": {
   "codemirror_mode": {
    "name": "ipython",
    "version": 3
   },
   "file_extension": ".py",
   "mimetype": "text/x-python",
   "name": "python",
   "nbconvert_exporter": "python",
   "pygments_lexer": "ipython3",
   "version": "3.10.6"
  },
  "orig_nbformat": 4,
  "vscode": {
   "interpreter": {
    "hash": "916dbcbb3f70747c44a77c7bcd40155683ae19c65e1c03b4aa3499c5328201f1"
   }
  }
 },
 "nbformat": 4,
 "nbformat_minor": 2
}
