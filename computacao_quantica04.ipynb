{
 "cells": [
  {
   "attachments": {},
   "cell_type": "markdown",
   "metadata": {},
   "source": [
    "<h3>COMPUTAÇÃO QUÂNTICA</h3>\n",
    "<hr>"
   ]
  },
  {
   "attachments": {},
   "cell_type": "markdown",
   "metadata": {},
   "source": [
    "<h4>Importação da Classe e da Arquitetura de Conexão</h4>"
   ]
  },
  {
   "cell_type": "code",
   "execution_count": 1,
   "metadata": {},
   "outputs": [],
   "source": [
    "from Neuraline.QuantumPhysics.quantum_computing import QuantumCircuit # classe do circuito quântico\n",
    "from Neuraline.QuantumPhysics.quantum_computing import QUANTUM_COMPUTER # objeto de conexão com o computador quântico"
   ]
  },
  {
   "attachments": {},
   "cell_type": "markdown",
   "metadata": {},
   "source": [
    "<h4>Construção do Circuito Quântico</h4>"
   ]
  },
  {
   "cell_type": "code",
   "execution_count": 2,
   "metadata": {},
   "outputs": [
    {
     "name": "stdout",
     "output_type": "stream",
     "text": [
      "Conexão com o Computador Quântico estabelecida com SUCESSO!\n"
     ]
    }
   ],
   "source": [
    "# Conexão Remota com o Computador Quântico\n",
    "quantum_computing = QuantumCircuit( # instanciação do objeto da classe importada\n",
    "    architecture=QUANTUM_COMPUTER, # arquitetura computacional de execução do algoritmo\n",
    ") # o algoritmo será executado com uma arquitetura quântica real\n",
    "if type(quantum_computing) == type(QuantumCircuit()): # verifica se a conexão foi bem sucedida\n",
    "    print('Conexão com o Computador Quântico estabelecida com SUCESSO!') # mensagem de sucesso\n",
    "else: print('ERRO ao estabelecer a conexão com o Computador Quântico.') # mensagem de fracasso\n",
    "# construção da arquitetura do circuito quântico\n",
    "result = quantum_computing.setQubits(nqubits=4) # alocação dos qubits no circuito quântico"
   ]
  },
  {
   "attachments": {},
   "cell_type": "markdown",
   "metadata": {},
   "source": [
    "<h4>Inserção das Portas Quânticas ao Circuito</h4>"
   ]
  },
  {
   "cell_type": "code",
   "execution_count": 3,
   "metadata": {},
   "outputs": [
    {
     "name": "stdout",
     "output_type": "stream",
     "text": [
      "Portas Quânticas adicionadas com SUCESSO!\n"
     ]
    }
   ],
   "source": [
    "result1 = quantum_computing.addGATE(gate='H', qubitIndexNames=[2], exponent=1) # adiciona a porta quântica Hadamard\n",
    "result2 = quantum_computing.addGATE(gate='X', qubitIndexNames=[1], exponent=.5) # adiciona a porta quântica Pauli-X\n",
    "result3 = quantum_computing.addGATE(gate='CNOT', qubitIndexNames=[1, 2], exponent=.4) # adiciona a porta quântica Controlled-NOT\n",
    "result4 = quantum_computing.addGATE(gate='TOFF', qubitIndexNames=[1, 2, 3], exponent=.3) # adiciona a porta quântica Toffoli\n",
    "# verificação do resultado das portas quânticas\n",
    "if result1 and result2 and result3 and result4: print('Portas Quânticas adicionadas com SUCESSO!') # mensagem de sucesso\n",
    "else: print('ERRO ao adicionar as portas quânticas.') # mensagem de fracasso"
   ]
  },
  {
   "attachments": {},
   "cell_type": "markdown",
   "metadata": {},
   "source": [
    "<h4>Exibição da Arquitetura do Circuito Quântico</h4>"
   ]
  },
  {
   "cell_type": "code",
   "execution_count": 4,
   "metadata": {},
   "outputs": [
    {
     "name": "stdout",
     "output_type": "stream",
     "text": [
      "|Q0>: ───────────────────────────────\n",
      "\n",
      "|Q1>: ───────X^0.5───@───────@───────\n",
      "                     │       │\n",
      "|Q2>: ───────H───────X^0.4───@───────\n",
      "                             │\n",
      "|Q3>: ───────────────────────X^0.3───\n"
     ]
    }
   ],
   "source": [
    "result = quantum_computing.showCircuit() # exibição da arquitetura do circuito quântico"
   ]
  },
  {
   "attachments": {},
   "cell_type": "markdown",
   "metadata": {},
   "source": [
    "<h4>Medição do Sistema Quântico</h4>"
   ]
  },
  {
   "cell_type": "code",
   "execution_count": 5,
   "metadata": {},
   "outputs": [
    {
     "name": "stdout",
     "output_type": "stream",
     "text": [
      "Estado Quântico: |0000>\n",
      "Estado Clássico: 0\n"
     ]
    }
   ],
   "source": [
    "measurement = quantum_computing.measurement( # método de medição do sistema quântico\n",
    "    repetitions=1024 # número de medições\n",
    ") # o resultado final será a média de cada medição\n",
    "# captura do resultado quântico mais provável\n",
    "maximum_probability_state = quantum_computing.getMaximumProbabilityState()\n",
    "# converte o estado quântico para estado clássico\n",
    "conversion = quantum_computing.toConvert(state=maximum_probability_state)\n",
    "print(f'Estado Quântico: {maximum_probability_state}\\nEstado Clássico: {conversion}') # exibe o resultado clássico interpretado"
   ]
  }
 ],
 "metadata": {
  "kernelspec": {
   "display_name": "Python 3",
   "language": "python",
   "name": "python3"
  },
  "language_info": {
   "codemirror_mode": {
    "name": "ipython",
    "version": 3
   },
   "file_extension": ".py",
   "mimetype": "text/x-python",
   "name": "python",
   "nbconvert_exporter": "python",
   "pygments_lexer": "ipython3",
   "version": "3.10.6"
  },
  "orig_nbformat": 4,
  "vscode": {
   "interpreter": {
    "hash": "916dbcbb3f70747c44a77c7bcd40155683ae19c65e1c03b4aa3499c5328201f1"
   }
  }
 },
 "nbformat": 4,
 "nbformat_minor": 2
}
