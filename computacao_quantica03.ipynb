{
 "cells": [
  {
   "attachments": {},
   "cell_type": "markdown",
   "metadata": {},
   "source": [
    "<h3>COMPUTAÇÃO QUÂNTICA</h3>\n",
    "<hr>"
   ]
  },
  {
   "cell_type": "markdown",
   "metadata": {},
   "source": [
    "<h4>Importação da Classe e da Arquitetura de Conexão</h4>"
   ]
  },
  {
   "cell_type": "code",
   "execution_count": 1,
   "metadata": {},
   "outputs": [],
   "source": [
    "from Neuraline.QuantumPhysics.quantum_computing import QuantumCircuit # classe do circuito quântico\n",
    "from Neuraline.QuantumPhysics.quantum_computing import QUANTUM_COMPUTER # objeto de conexão com o computador quântico"
   ]
  },
  {
   "cell_type": "markdown",
   "metadata": {},
   "source": [
    "<h4>Construção do Circuito Quântico</h4>"
   ]
  },
  {
   "cell_type": "code",
   "execution_count": 2,
   "metadata": {},
   "outputs": [
    {
     "name": "stdout",
     "output_type": "stream",
     "text": [
      "Conexão com o Computador Quântico estabelecida com SUCESSO!\n"
     ]
    }
   ],
   "source": [
    "# Conexão Remota com o Computador Quântico\n",
    "# conexão remota com um computador quântico de 5 qubits reais\n",
    "# alocações acima de 5 qubits irão manter 5 qubits reais e os qubits restantes serão simulados\n",
    "quantum_computing = QuantumCircuit( # instanciação do objeto da classe importada\n",
    "    architecture=QUANTUM_COMPUTER, # arquitetura computacional de execução do algoritmo\n",
    "    initial_matrix=[[1, 1], [1, 1]] # matriz de inicialização do circuito\n",
    ") # o algoritmo será executado com uma arquitetura quântica real\n",
    "if type(quantum_computing) == type(QuantumCircuit()): # verifica se a conexão foi bem sucedida\n",
    "    print('Conexão com o Computador Quântico estabelecida com SUCESSO!') # mensagem de sucesso\n",
    "else: print('ERRO ao estabelecer a conexão com o Computador Quântico.') # mensagem de fracasso\n",
    "# construção da arquitetura do circuito quântico\n",
    "quantum_computing.setQubits( # alocação dos qubits no circuito quântico\n",
    "    nqubits=3 # número de qubits alocados\n",
    ")\n",
    "qubits = quantum_computing.getQubits() # captura os qubits alocados\n",
    "quantum_states = quantum_computing.getStates() # captura os estados quânticos possíveis"
   ]
  },
  {
   "cell_type": "markdown",
   "metadata": {},
   "source": [
    "<h4>Porta Quântica Pauli-X</h4>"
   ]
  },
  {
   "cell_type": "code",
   "execution_count": 3,
   "metadata": {},
   "outputs": [
    {
     "name": "stdout",
     "output_type": "stream",
     "text": [
      "Porta Quântica Pauli-X adicionada com SUCESSO!\n"
     ]
    }
   ],
   "source": [
    "result = quantum_computing.addPauliXGATE( # porta quântica Pauli-X\n",
    "    qubitIndexName=0, # índice do qubit que receberá a porta lógica\n",
    "    exponent=1 # expoente potencial da matriz de construção da porta quântica\n",
    ")\n",
    "if result: print('Porta Quântica Pauli-X adicionada com SUCESSO!') # mensagem de sucesso\n",
    "else: print('ERRO ao adicionar a porta quântica.') # mensagem de fracasso"
   ]
  },
  {
   "cell_type": "markdown",
   "metadata": {},
   "source": [
    "<h4>Porta Quântica Pauli-Y</h4>"
   ]
  },
  {
   "cell_type": "code",
   "execution_count": 4,
   "metadata": {},
   "outputs": [
    {
     "name": "stdout",
     "output_type": "stream",
     "text": [
      "Porta Quântica Pauli-Y adicionada com SUCESSO!\n"
     ]
    }
   ],
   "source": [
    "result = quantum_computing.addPauliYGATE( # porta quântica Pauli-Y\n",
    "    qubitIndexName=0, # índice do qubit que receberá a porta lógica\n",
    "    exponent=1 # expoente potencial da matriz de construção da porta quântica\n",
    ")\n",
    "if result: print('Porta Quântica Pauli-Y adicionada com SUCESSO!') # mensagem de sucesso\n",
    "else: print('ERRO ao adicionar a porta quântica.') # mensagem de fracasso"
   ]
  },
  {
   "cell_type": "markdown",
   "metadata": {},
   "source": [
    "<h4>Porta Quântica Pauli-Z</h4>"
   ]
  },
  {
   "cell_type": "code",
   "execution_count": 5,
   "metadata": {},
   "outputs": [
    {
     "name": "stdout",
     "output_type": "stream",
     "text": [
      "Porta Quântica Pauli-Z adicionada com SUCESSO!\n"
     ]
    }
   ],
   "source": [
    "result = quantum_computing.addPauliZGATE( # porta quântica Pauli-Z\n",
    "    qubitIndexName=0, # índice do qubit que receberá a porta lógica\n",
    "    exponent=1 # expoente potencial da matriz de construção da porta quântica\n",
    ")\n",
    "if result: print('Porta Quântica Pauli-Z adicionada com SUCESSO!') # mensagem de sucesso\n",
    "else: print('ERRO ao adicionar a porta quântica.') # mensagem de fracasso"
   ]
  },
  {
   "cell_type": "markdown",
   "metadata": {},
   "source": [
    "<h4>Porta Quântica Hadamard</h4>"
   ]
  },
  {
   "cell_type": "code",
   "execution_count": 6,
   "metadata": {},
   "outputs": [
    {
     "name": "stdout",
     "output_type": "stream",
     "text": [
      "Porta Quântica Hadamard adicionada com SUCESSO!\n"
     ]
    }
   ],
   "source": [
    "result = quantum_computing.addHadamardGATE( # porta quântica Hadamard\n",
    "    qubitIndexName=0, # índice do qubit que receberá a porta lógica\n",
    "    exponent=1 # expoente potencial da matriz de construção da porta quântica\n",
    ")\n",
    "if result: print('Porta Quântica Hadamard adicionada com SUCESSO!') # mensagem de sucesso\n",
    "else: print('ERRO ao adicionar a porta quântica.') # mensagem de fracasso"
   ]
  },
  {
   "cell_type": "markdown",
   "metadata": {},
   "source": [
    "<h4>Porta Quântica Phase-S</h4>"
   ]
  },
  {
   "cell_type": "code",
   "execution_count": 7,
   "metadata": {},
   "outputs": [
    {
     "name": "stdout",
     "output_type": "stream",
     "text": [
      "Porta Quântica Phase-S adicionada com SUCESSO!\n"
     ]
    }
   ],
   "source": [
    "result = quantum_computing.addPhaseSGATE( # porta quântica Phase-S\n",
    "    qubitIndexName=0, # índice do qubit que receberá a porta lógica\n",
    "    exponent=1 # expoente potencial da matriz de construção da porta quântica\n",
    ")\n",
    "if result: print('Porta Quântica Phase-S adicionada com SUCESSO!') # mensagem de sucesso\n",
    "else: print('ERRO ao adicionar a porta quântica.') # mensagem de fracasso"
   ]
  },
  {
   "cell_type": "markdown",
   "metadata": {},
   "source": [
    "<h4>Porta Quântica Phase-T</h4>"
   ]
  },
  {
   "cell_type": "code",
   "execution_count": 8,
   "metadata": {},
   "outputs": [
    {
     "name": "stdout",
     "output_type": "stream",
     "text": [
      "Porta Quântica Phase-T adicionada com SUCESSO!\n"
     ]
    }
   ],
   "source": [
    "result = quantum_computing.addPhaseTGATE( # porta quântica Phase-T\n",
    "    qubitIndexName=0, # índice do qubit que receberá a porta lógica\n",
    "    exponent=1 # expoente potencial da matriz de construção da porta quântica\n",
    ")\n",
    "if result: print('Porta Quântica Phase-T adicionada com SUCESSO!') # mensagem de sucesso\n",
    "else: print('ERRO ao adicionar a porta quântica.') # mensagem de fracasso"
   ]
  },
  {
   "cell_type": "markdown",
   "metadata": {},
   "source": [
    "<h4>Porta Quântica Controlled-NOT</h4>"
   ]
  },
  {
   "cell_type": "code",
   "execution_count": 9,
   "metadata": {},
   "outputs": [
    {
     "name": "stdout",
     "output_type": "stream",
     "text": [
      "Porta Quântica Controlled-NOT adicionada com SUCESSO!\n"
     ]
    }
   ],
   "source": [
    "result = quantum_computing.addControlledNOTGATE( # porta quântica Controlled-NOT\n",
    "    qubitIndexName1=0, # índice do qubit que receberá a porta lógica inicial\n",
    "    qubitIndexName2=1, # índice do qubit que receberá a porta lógica final\n",
    "    exponent=1 # expoente potencial da matriz de construção da porta quântica\n",
    ")\n",
    "if result: print('Porta Quântica Controlled-NOT adicionada com SUCESSO!') # mensagem de sucesso\n",
    "else: print('ERRO ao adicionar a porta quântica.') # mensagem de fracasso"
   ]
  },
  {
   "cell_type": "markdown",
   "metadata": {},
   "source": [
    "<h4>Porta Quântica Controlled Pauli-Z</h4>"
   ]
  },
  {
   "cell_type": "code",
   "execution_count": 10,
   "metadata": {},
   "outputs": [
    {
     "name": "stdout",
     "output_type": "stream",
     "text": [
      "Porta Quântica Controlled Pauli-Z adicionada com SUCESSO!\n"
     ]
    }
   ],
   "source": [
    "result = quantum_computing.addControlledPauliZGATE( # porta quântica Controlled Pauli-Z\n",
    "    qubitIndexName1=0, # índice do qubit que receberá a porta lógica inicial\n",
    "    qubitIndexName2=1, # índice do qubit que receberá a porta lógica final\n",
    "    exponent=1 # expoente potencial da matriz de construção da porta quântica\n",
    ")\n",
    "if result: print('Porta Quântica Controlled Pauli-Z adicionada com SUCESSO!') # mensagem de sucesso\n",
    "else: print('ERRO ao adicionar a porta quântica.') # mensagem de fracasso"
   ]
  },
  {
   "cell_type": "markdown",
   "metadata": {},
   "source": [
    "<h4>Porta Quântica Parity-XX</h4>"
   ]
  },
  {
   "cell_type": "code",
   "execution_count": 11,
   "metadata": {},
   "outputs": [
    {
     "name": "stdout",
     "output_type": "stream",
     "text": [
      "Porta Quântica Parity-XX adicionada com SUCESSO!\n"
     ]
    }
   ],
   "source": [
    "result = quantum_computing.addParityXXGATE( # porta quântica Parity-XX\n",
    "    qubitIndexName1=0, # índice do qubit que receberá a porta lógica inicial\n",
    "    qubitIndexName2=1, # índice do qubit que receberá a porta lógica final\n",
    "    exponent=1 # expoente potencial da matriz de construção da porta quântica\n",
    ")\n",
    "if result: print('Porta Quântica Parity-XX adicionada com SUCESSO!') # mensagem de sucesso\n",
    "else: print('ERRO ao adicionar a porta quântica.') # mensagem de fracasso"
   ]
  },
  {
   "cell_type": "markdown",
   "metadata": {},
   "source": [
    "<h4>Porta Quântica Parity-YY</h4>"
   ]
  },
  {
   "cell_type": "code",
   "execution_count": 12,
   "metadata": {},
   "outputs": [
    {
     "name": "stdout",
     "output_type": "stream",
     "text": [
      "Porta Quântica Parity-YY adicionada com SUCESSO!\n"
     ]
    }
   ],
   "source": [
    "result = quantum_computing.addParityYYGATE( # porta quântica Parity-YY\n",
    "    qubitIndexName1=0, # índice do qubit que receberá a porta lógica inicial\n",
    "    qubitIndexName2=1, # índice do qubit que receberá a porta lógica final\n",
    "    exponent=1 # expoente potencial da matriz de construção da porta quântica\n",
    ")\n",
    "if result: print('Porta Quântica Parity-YY adicionada com SUCESSO!') # mensagem de sucesso\n",
    "else: print('ERRO ao adicionar a porta quântica.') # mensagem de fracasso"
   ]
  },
  {
   "cell_type": "markdown",
   "metadata": {},
   "source": [
    "<h4>Porta Quântica Parity-ZZ</h4>"
   ]
  },
  {
   "cell_type": "code",
   "execution_count": 13,
   "metadata": {},
   "outputs": [
    {
     "name": "stdout",
     "output_type": "stream",
     "text": [
      "Porta Quântica Parity-ZZ adicionada com SUCESSO!\n"
     ]
    }
   ],
   "source": [
    "result = quantum_computing.addParityZZGATE( # porta quântica Parity-ZZ\n",
    "    qubitIndexName1=0, # índice do qubit que receberá a porta lógica inicial\n",
    "    qubitIndexName2=1, # índice do qubit que receberá a porta lógica final\n",
    "    exponent=1 # expoente potencial da matriz de construção da porta quântica\n",
    ")\n",
    "if result: print('Porta Quântica Parity-ZZ adicionada com SUCESSO!') # mensagem de sucesso\n",
    "else: print('ERRO ao adicionar a porta quântica.') # mensagem de fracasso"
   ]
  },
  {
   "cell_type": "markdown",
   "metadata": {},
   "source": [
    "<h4>Porta Quântica Swap</h4>"
   ]
  },
  {
   "cell_type": "code",
   "execution_count": 14,
   "metadata": {},
   "outputs": [
    {
     "name": "stdout",
     "output_type": "stream",
     "text": [
      "Porta Quântica Swap adicionada com SUCESSO!\n"
     ]
    }
   ],
   "source": [
    "result = quantum_computing.addSwapGATE( # porta quântica Swap\n",
    "    qubitIndexName1=0, # índice do qubit que receberá a porta lógica inicial\n",
    "    qubitIndexName2=1, # índice do qubit que receberá a porta lógica final\n",
    "    exponent=1 # expoente potencial da matriz de construção da porta quântica\n",
    ")\n",
    "if result: print('Porta Quântica Swap adicionada com SUCESSO!') # mensagem de sucesso\n",
    "else: print('ERRO ao adicionar a porta quântica.') # mensagem de fracasso"
   ]
  },
  {
   "cell_type": "markdown",
   "metadata": {},
   "source": [
    "<h4>Porta Quântica I-Swap</h4>"
   ]
  },
  {
   "cell_type": "code",
   "execution_count": 15,
   "metadata": {},
   "outputs": [
    {
     "name": "stdout",
     "output_type": "stream",
     "text": [
      "Porta Quântica I-Swap adicionada com SUCESSO!\n"
     ]
    }
   ],
   "source": [
    "result = quantum_computing.addISwapGATE( # porta quântica I-Swap\n",
    "    qubitIndexName1=0, # índice do qubit que receberá a porta lógica inicial\n",
    "    qubitIndexName2=1, # índice do qubit que receberá a porta lógica final\n",
    "    exponent=1 # expoente potencial da matriz de construção da porta quântica\n",
    ")\n",
    "if result: print('Porta Quântica I-Swap adicionada com SUCESSO!') # mensagem de sucesso\n",
    "else: print('ERRO ao adicionar a porta quântica.') # mensagem de fracasso"
   ]
  },
  {
   "cell_type": "markdown",
   "metadata": {},
   "source": [
    "<h4>Porta Quântica Toffoli</h4>"
   ]
  },
  {
   "cell_type": "code",
   "execution_count": 16,
   "metadata": {},
   "outputs": [
    {
     "name": "stdout",
     "output_type": "stream",
     "text": [
      "Porta Quântica Toffoli adicionada com SUCESSO!\n"
     ]
    }
   ],
   "source": [
    "result = quantum_computing.addToffoliGATE( # porta quântica Toffoli\n",
    "    qubitIndexName1=0, # índice do qubit que receberá a porta lógica inicial\n",
    "    qubitIndexName2=1, # índice do qubit que receberá a porta lógica intermediária\n",
    "    qubitIndexName3=2, # índice do qubit que receberá a porta lógica final\n",
    "    exponent=1 # expoente potencial da matriz de construção da porta quântica\n",
    ")\n",
    "if result: print('Porta Quântica Toffoli adicionada com SUCESSO!') # mensagem de sucesso\n",
    "else: print('ERRO ao adicionar a porta quântica.') # mensagem de fracasso"
   ]
  },
  {
   "cell_type": "markdown",
   "metadata": {},
   "source": [
    "<h4>Porta Quântica Controlled-Controlled-Z</h4>"
   ]
  },
  {
   "cell_type": "code",
   "execution_count": 17,
   "metadata": {},
   "outputs": [
    {
     "name": "stdout",
     "output_type": "stream",
     "text": [
      "Porta Quântica Controlled-Controlled-Z adicionada com SUCESSO!\n"
     ]
    }
   ],
   "source": [
    "result = quantum_computing.addControlledControlledZGATE( # porta quântica Controlled-Controlled-Z\n",
    "    qubitIndexName1=0, # índice do qubit que receberá a porta lógica inicial\n",
    "    qubitIndexName2=1, # índice do qubit que receberá a porta lógica intermediária\n",
    "    qubitIndexName3=2, # índice do qubit que receberá a porta lógica final\n",
    "    exponent=1 # expoente potencial da matriz de construção da porta quântica\n",
    ")\n",
    "if result: print('Porta Quântica Controlled-Controlled-Z adicionada com SUCESSO!') # mensagem de sucesso\n",
    "else: print('ERRO ao adicionar a porta quântica.') # mensagem de fracasso"
   ]
  },
  {
   "cell_type": "markdown",
   "metadata": {},
   "source": [
    "<h4>Porta Quântica Fredkin</h4>"
   ]
  },
  {
   "cell_type": "code",
   "execution_count": 18,
   "metadata": {},
   "outputs": [
    {
     "name": "stdout",
     "output_type": "stream",
     "text": [
      "Porta Quântica Fredkin adicionada com SUCESSO!\n"
     ]
    }
   ],
   "source": [
    "result = quantum_computing.addFredkinGATE( # porta quântica Fredkin\n",
    "    qubitIndexName1=0, # índice do qubit que receberá a porta lógica inicial\n",
    "    qubitIndexName2=1, # índice do qubit que receberá a porta lógica intermediária\n",
    "    qubitIndexName3=2, # índice do qubit que receberá a porta lógica final\n",
    "    exponent=1 # expoente potencial da matriz de construção da porta quântica\n",
    ")\n",
    "if result: print('Porta Quântica Fredkin adicionada com SUCESSO!') # mensagem de sucesso\n",
    "else: print('ERRO ao adicionar a porta quântica.') # mensagem de fracasso"
   ]
  },
  {
   "cell_type": "markdown",
   "metadata": {},
   "source": [
    "<h4>Porta Quântica Pauli-X Radians</h4>"
   ]
  },
  {
   "cell_type": "code",
   "execution_count": 19,
   "metadata": {},
   "outputs": [
    {
     "name": "stdout",
     "output_type": "stream",
     "text": [
      "Porta Quântica Pauli-X Radians adicionada com SUCESSO!\n"
     ]
    }
   ],
   "source": [
    "result = quantum_computing.addPauliXRadiansGATE( # porta quântica Pauli-X Radians\n",
    "    qubitIndexName=0, # índice do qubit que receberá a porta lógica\n",
    "    radians=.5, # radianos da matriz de construção da porta quântica\n",
    "    exponent=1 # expoente potencial da matriz de construção da porta quântica\n",
    ")\n",
    "if result: print('Porta Quântica Pauli-X Radians adicionada com SUCESSO!') # mensagem de sucesso\n",
    "else: print('ERRO ao adicionar a porta quântica.') # mensagem de fracasso"
   ]
  },
  {
   "cell_type": "markdown",
   "metadata": {},
   "source": [
    "<h4>Porta Quântica Pauli-Y Radians</h4>"
   ]
  },
  {
   "cell_type": "code",
   "execution_count": 20,
   "metadata": {},
   "outputs": [
    {
     "name": "stdout",
     "output_type": "stream",
     "text": [
      "Porta Quântica Pauli-Y Radians adicionada com SUCESSO!\n"
     ]
    }
   ],
   "source": [
    "result = quantum_computing.addPauliYRadiansGATE( # porta quântica Pauli-Y Radians\n",
    "    qubitIndexName=0, # índice do qubit que receberá a porta lógica\n",
    "    radians=0, # radianos da matriz de construção da porta quântica\n",
    "    exponent=1 # expoente potencial da matriz de construção da porta quântica\n",
    ")\n",
    "if result: print('Porta Quântica Pauli-Y Radians adicionada com SUCESSO!') # mensagem de sucesso\n",
    "else: print('ERRO ao adicionar a porta quântica.') # mensagem de fracasso"
   ]
  },
  {
   "cell_type": "markdown",
   "metadata": {},
   "source": [
    "<h4>Porta Quântica Pauli-Z Radians</h4>"
   ]
  },
  {
   "cell_type": "code",
   "execution_count": 21,
   "metadata": {},
   "outputs": [
    {
     "name": "stdout",
     "output_type": "stream",
     "text": [
      "Porta Quântica Pauli-Z Radians adicionada com SUCESSO!\n"
     ]
    }
   ],
   "source": [
    "result = quantum_computing.addPauliZRadiansGATE( # porta quântica Pauli-Z Radians\n",
    "    qubitIndexName=0, # índice do qubit que receberá a porta lógica\n",
    "    radians=0, # radianos da matriz de construção da porta quântica\n",
    "    exponent=1 # expoente potencial da matriz de construção da porta quântica\n",
    ")\n",
    "if result: print('Porta Quântica Pauli-Z Radians adicionada com SUCESSO!') # mensagem de sucesso\n",
    "else: print('ERRO ao adicionar a porta quântica.') # mensagem de fracasso"
   ]
  },
  {
   "cell_type": "markdown",
   "metadata": {},
   "source": [
    "<h4>Medição do Observador/ Colapso da Função de Onda</h4>"
   ]
  },
  {
   "cell_type": "code",
   "execution_count": 22,
   "metadata": {},
   "outputs": [
    {
     "name": "stdout",
     "output_type": "stream",
     "text": [
      "|Q0>: ───────X───Y───Z───H───S───T───@───@───XX───YY───ZZ───×───iSwap───@───@───@───Rx(0.159π)───Ry(0)───Rz(0)───\n",
      "                                     │   │   │    │    │    │   │       │   │   │\n",
      "|Q1>: ───────────────────────────────X───@───XX───YY───ZZ───×───iSwap───@───@───×────────────────────────────────\n",
      "                                                                        │   │   │\n",
      "|Q2>: ──────────────────────────────────────────────────────────────────X───@───×────────────────────────────────\n",
      "╒══════╤═════════════════╤═══════════════╕\n",
      "│ ID   │ QUANTUM STATE   │ PROBABILITY   │\n",
      "╞══════╪═════════════════╪═══════════════╡\n",
      "│ 1    │ |010>           │ 0.2812500000  │\n",
      "├──────┼─────────────────┼───────────────┤\n",
      "│ 2    │ |110>           │ 0.2226562500  │\n",
      "├──────┼─────────────────┼───────────────┤\n",
      "│ 3    │ |000>           │ 0.2216796875  │\n",
      "├──────┼─────────────────┼───────────────┤\n",
      "│ 4    │ |100>           │ 0.2197265625  │\n",
      "├──────┼─────────────────┼───────────────┤\n",
      "│ 5    │ |001>           │ 0.0214843750  │\n",
      "├──────┼─────────────────┼───────────────┤\n",
      "│ 6    │ |111>           │ 0.0156250000  │\n",
      "├──────┼─────────────────┼───────────────┤\n",
      "│ 7    │ |011>           │ 0.0107421875  │\n",
      "├──────┼─────────────────┼───────────────┤\n",
      "│ 8    │ |101>           │ 0.0068359375  │\n",
      "╘══════╧═════════════════╧═══════════════╛\n"
     ]
    }
   ],
   "source": [
    "result = quantum_computing.showCircuit() # exibição da arquitetura do circuito quântico\n",
    "# aplicação do observador que irá colapsar a função de onda\n",
    "measurement = quantum_computing.measurement( # método de medição do sistema quântico\n",
    "    repetitions=1024 # número de medições\n",
    ") # o resultado final será a média de cada medição\n",
    "show = quantum_computing.showMeasurement( # exibição da tabela de estados quânticos\n",
    "    measurement=measurement, # atribuição do resultado da medição do sistema quântico\n",
    "    save=False # True para salvar um arquivo texto com o resultado ou False para não salvar\n",
    ")"
   ]
  },
  {
   "cell_type": "markdown",
   "metadata": {},
   "source": [
    "<h4>Dados da Construção e Medição do Circuito</h4>"
   ]
  },
  {
   "cell_type": "code",
   "execution_count": 23,
   "metadata": {},
   "outputs": [
    {
     "name": "stdout",
     "output_type": "stream",
     "text": [
      "qubits:\n",
      "{'qubit': '|Q0>', 'gates': ['X', 'Y', 'Z', 'H', 'S', 'T', 'CNOT', 'CZ', 'XX', 'YY', 'ZZ', 'SWAP', 'ISWAP', 'TOFF', 'CCZ', 'FREDKIN', 'RX', 'RY', 'RZ']}\n",
      "{'qubit': '|Q1>', 'gates': ['CNOT', 'CZ', 'XX', 'YY', 'ZZ', 'SWAP', 'ISWAP', 'TOFF', 'CCZ', 'FREDKIN']}\n",
      "{'qubit': '|Q2>', 'gates': ['TOFF', 'CCZ', 'FREDKIN']}\n",
      "\n",
      "quantum states: ['|000>', '|001>', '|010>', '|011>', '|100>', '|101>', '|110>', '|111>']\n",
      "measurement: {'|000>': 0.2216796875, '|001>': 0.021484375, '|010>': 0.28125, '|011>': 0.0107421875, '|100>': 0.2197265625, '|101>': 0.0068359375, '|110>': 0.22265625, '|111>': 0.015625}\n",
      "maximum probability state: |010>\n"
     ]
    },
    {
     "data": {
      "image/png": "[encoded data removed]",
      "text/plain": [
       "<Figure size 576x288 with 1 Axes>"
      ]
     },
     "metadata": {
      "needs_background": "light"
     },
     "output_type": "display_data"
    }
   ],
   "source": [
    "# captura do resultado quântico mais provável\n",
    "maximum_probability_state = quantum_computing.getMaximumProbabilityState()\n",
    "# exibição dos valores quânticos capturados\n",
    "print('qubits:')\n",
    "for qubit in qubits: print(qubit) # loop para exibir cada dicionário de qubit em uma única linha\n",
    "print('') # pula uma linha\n",
    "print(f'quantum states: {quantum_states}')\n",
    "print(f'measurement: {measurement}')\n",
    "print(f'maximum probability state: {maximum_probability_state}')\n",
    "# plotagem das probabilidades para os estados quânticos\n",
    "result = quantum_computing.plotMeasurement(\n",
    "    measurement=measurement, # atribuição do resultado da medição do sistema quântico\n",
    "    bar_values=False # True para exibir os valores das barras ou False para não exibir\n",
    ")"
   ]
  }
 ],
 "metadata": {
  "kernelspec": {
   "display_name": "Python 3 (ipykernel)",
   "language": "python",
   "name": "python3"
  },
  "language_info": {
   "codemirror_mode": {
    "name": "ipython",
    "version": 3
   },
   "file_extension": ".py",
   "mimetype": "text/x-python",
   "name": "python",
   "nbconvert_exporter": "python",
   "pygments_lexer": "ipython3",
   "version": "3.10.6"
  },
  "vscode": {
   "interpreter": {
    "hash": "916dbcbb3f70747c44a77c7bcd40155683ae19c65e1c03b4aa3499c5328201f1"
   }
  }
 },
 "nbformat": 4,
 "nbformat_minor": 2
}
