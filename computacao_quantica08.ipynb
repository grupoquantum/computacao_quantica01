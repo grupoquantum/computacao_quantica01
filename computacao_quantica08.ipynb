{
 "cells": [
  {
   "attachments": {},
   "cell_type": "markdown",
   "metadata": {},
   "source": [
    "<h3>COMPUTAÇÃO QUÂNTICA</h3>\n",
    "<hr>"
   ]
  },
  {
   "attachments": {},
   "cell_type": "markdown",
   "metadata": {},
   "source": [
    "<h4>OPERAÇÕES ARITMÉTICAS EM CIRCUITOS QUÂNTICOS</h4>"
   ]
  },
  {
   "attachments": {},
   "cell_type": "markdown",
   "metadata": {},
   "source": [
    "<h3>Soma Quântica</h3>"
   ]
  },
  {
   "cell_type": "code",
   "execution_count": 65,
   "metadata": {},
   "outputs": [
    {
     "name": "stdout",
     "output_type": "stream",
     "text": [
      "Conexão com o Computador Quântico estabelecida com SUCESSO!\n",
      "|Q0>: ───────(2.0)───Σ───(3.0)───\n",
      "╒══════╤═════════════════╤═══════════════╕\n",
      "│ ID   │ QUANTUM STATE   │ PROBABILITY   │\n",
      "╞══════╪═════════════════╪═══════════════╡\n",
      "│ 1    │ |5>             │ 000000000001  │\n",
      "╘══════╧═════════════════╧═══════════════╛\n",
      "resultado clássico da operação quântica: 2 + 3 = 5\n"
     ]
    }
   ],
   "source": [
    "from Neuraline.QuantumPhysics.quantum_computing import QuantumCircuit # classe do circuito quântico\n",
    "from Neuraline.QuantumPhysics.quantum_computing import QUANTUM_COMPUTER # objeto de conexão com o computador quântico\n",
    "# Conexão Remota com o Computador Quântico\n",
    "quantum_computing = QuantumCircuit(architecture=QUANTUM_COMPUTER) # instanciação do objeto quântico\n",
    "if type(quantum_computing) == type(QuantumCircuit()): # verifica se a conexão foi bem sucedida\n",
    "    print('Conexão com o Computador Quântico estabelecida com SUCESSO!') # mensagem de sucesso\n",
    "else: print('ERRO ao estabelecer a conexão com o Computador Quântico.') # mensagem de fracasso\n",
    "# construção da arquitetura do circuito quântico\n",
    "result = quantum_computing.setQubits(nqubits=1) # alocação dos qubits no circuito quântico\n",
    "number1 = 2 # valor clássico do primeiro número\n",
    "number2 = 3 # valor clássico do segundo número\n",
    "result = quantum_computing.addUnitaryGate(qubitIndexName=0, value=number1) # adiciona uma porta quântica de valor unitário\n",
    "result = quantum_computing.addSumBarrier() # adiciona um barramento quântico de soma\n",
    "result = quantum_computing.addUnitaryGate(qubitIndexName=0, value=number2) # adiciona uma porta quântica de valor unitário\n",
    "# processamento do resultado final calculado\n",
    "result = quantum_computing.showCircuit() # exibição da arquitetura do circuito quântico\n",
    "result = quantum_computing.measurement() # medição do sistema quântico (medição do observador)\n",
    "result = quantum_computing.showMeasurement() # exibição dos estados quânticos de resultado\n",
    "result = quantum_computing.getResult(qubitIndexName=0) # captura do resultado clássico obtido\n",
    "print(f'resultado clássico da operação quântica: {number1} + {number2} = {result}') # exibição do resultado final"
   ]
  },
  {
   "attachments": {},
   "cell_type": "markdown",
   "metadata": {},
   "source": [
    "<h3>Subtração Quântica</h3>"
   ]
  },
  {
   "cell_type": "code",
   "execution_count": 66,
   "metadata": {},
   "outputs": [
    {
     "name": "stdout",
     "output_type": "stream",
     "text": [
      "Conexão com o Computador Quântico estabelecida com SUCESSO!\n",
      "|Q0>: ───────(5.0)───────(2.0)───\n",
      "╒══════╤═════════════════╤═══════════════╕\n",
      "│ ID   │ QUANTUM STATE   │ PROBABILITY   │\n",
      "╞══════╪═════════════════╪═══════════════╡\n",
      "│ 1    │ |3>             │ 000000000001  │\n",
      "╘══════╧═════════════════╧═══════════════╛\n",
      "resultado clássico da operação quântica: 5 - 2 = 3\n"
     ]
    }
   ],
   "source": [
    "from Neuraline.QuantumPhysics.quantum_computing import QuantumCircuit # classe do circuito quântico\n",
    "from Neuraline.QuantumPhysics.quantum_computing import QUANTUM_COMPUTER # objeto de conexão com o computador quântico\n",
    "# Conexão Remota com o Computador Quântico\n",
    "quantum_computing = QuantumCircuit(architecture=QUANTUM_COMPUTER) # instanciação do objeto quântico\n",
    "if type(quantum_computing) == type(QuantumCircuit()): # verifica se a conexão foi bem sucedida\n",
    "    print('Conexão com o Computador Quântico estabelecida com SUCESSO!') # mensagem de sucesso\n",
    "else: print('ERRO ao estabelecer a conexão com o Computador Quântico.') # mensagem de fracasso\n",
    "# construção da arquitetura do circuito quântico\n",
    "result = quantum_computing.setQubits(nqubits=1) # alocação dos qubits no circuito quântico\n",
    "number1 = 5 # valor clássico do primeiro número\n",
    "number2 = 2 # valor clássico do segundo número\n",
    "result = quantum_computing.addUnitaryGate(qubitIndexName=0, value=number1) # adiciona uma porta quântica de valor unitário\n",
    "result = quantum_computing.addSubtractionBarrier() # adiciona um barramento quântico de subtração\n",
    "result = quantum_computing.addUnitaryGate(qubitIndexName=0, value=number2) # adiciona uma porta quântica de valor unitário\n",
    "# processamento do resultado final calculado\n",
    "result = quantum_computing.showCircuit() # exibição da arquitetura do circuito quântico\n",
    "result = quantum_computing.measurement() # medição do sistema quântico (medição do observador)\n",
    "result = quantum_computing.showMeasurement() # exibição dos estados quânticos de resultado\n",
    "result = quantum_computing.getResult(qubitIndexName=0) # captura do resultado clássico obtido\n",
    "print(f'resultado clássico da operação quântica: {number1} - {number2} = {result}') # exibição do resultado final"
   ]
  },
  {
   "attachments": {},
   "cell_type": "markdown",
   "metadata": {},
   "source": [
    "<h3>Divisão Quântica</h3>"
   ]
  },
  {
   "cell_type": "code",
   "execution_count": 67,
   "metadata": {},
   "outputs": [
    {
     "name": "stdout",
     "output_type": "stream",
     "text": [
      "Conexão com o Computador Quântico estabelecida com SUCESSO!\n",
      "|Q0>: ───────(5.0)───⁒───(2.0)───\n",
      "╒══════╤═════════════════╤═══════════════╕\n",
      "│ ID   │ QUANTUM STATE   │ PROBABILITY   │\n",
      "╞══════╪═════════════════╪═══════════════╡\n",
      "│ 1    │ |2.5>           │ 000000000001  │\n",
      "╘══════╧═════════════════╧═══════════════╛\n",
      "resultado clássico da operação quântica: 5 % 2 = 2.5\n"
     ]
    }
   ],
   "source": [
    "from Neuraline.QuantumPhysics.quantum_computing import QuantumCircuit # classe do circuito quântico\n",
    "from Neuraline.QuantumPhysics.quantum_computing import QUANTUM_COMPUTER # objeto de conexão com o computador quântico\n",
    "# Conexão Remota com o Computador Quântico\n",
    "quantum_computing = QuantumCircuit(architecture=QUANTUM_COMPUTER) # instanciação do objeto quântico\n",
    "if type(quantum_computing) == type(QuantumCircuit()): # verifica se a conexão foi bem sucedida\n",
    "    print('Conexão com o Computador Quântico estabelecida com SUCESSO!') # mensagem de sucesso\n",
    "else: print('ERRO ao estabelecer a conexão com o Computador Quântico.') # mensagem de fracasso\n",
    "# construção da arquitetura do circuito quântico\n",
    "result = quantum_computing.setQubits(nqubits=1) # alocação dos qubits no circuito quântico\n",
    "number1 = 5 # valor clássico do primeiro número\n",
    "number2 = 2 # valor clássico do segundo número\n",
    "result = quantum_computing.addUnitaryGate(qubitIndexName=0, value=number1) # adiciona uma porta quântica de valor unitário\n",
    "result = quantum_computing.addDivisionBarrier() # adiciona um barramento quântico de divisão\n",
    "result = quantum_computing.addUnitaryGate(qubitIndexName=0, value=number2) # adiciona uma porta quântica de valor unitário\n",
    "# processamento do resultado final calculado\n",
    "result = quantum_computing.showCircuit() # exibição da arquitetura do circuito quântico\n",
    "result = quantum_computing.measurement() # medição do sistema quântico (medição do observador)\n",
    "result = quantum_computing.showMeasurement() # exibição dos estados quânticos de resultado\n",
    "result = quantum_computing.getResult(qubitIndexName=0) # captura do resultado clássico obtido\n",
    "print(f'resultado clássico da operação quântica: {number1} % {number2} = {result}') # exibição do resultado final"
   ]
  },
  {
   "attachments": {},
   "cell_type": "markdown",
   "metadata": {},
   "source": [
    "<h3>Multiplicação Quântica</h3>"
   ]
  },
  {
   "cell_type": "code",
   "execution_count": 68,
   "metadata": {},
   "outputs": [
    {
     "name": "stdout",
     "output_type": "stream",
     "text": [
      "Conexão com o Computador Quântico estabelecida com SUCESSO!\n",
      "|Q0>: ───────(2.0)───×───(4.0)───\n",
      "╒══════╤═════════════════╤═══════════════╕\n",
      "│ ID   │ QUANTUM STATE   │ PROBABILITY   │\n",
      "╞══════╪═════════════════╪═══════════════╡\n",
      "│ 1    │ |8>             │ 000000000001  │\n",
      "╘══════╧═════════════════╧═══════════════╛\n",
      "resultado clássico da operação quântica: 2 x 4 = 8\n"
     ]
    }
   ],
   "source": [
    "from Neuraline.QuantumPhysics.quantum_computing import QuantumCircuit # classe do circuito quântico\n",
    "from Neuraline.QuantumPhysics.quantum_computing import QUANTUM_COMPUTER # objeto de conexão com o computador quântico\n",
    "# Conexão Remota com o Computador Quântico\n",
    "quantum_computing = QuantumCircuit(architecture=QUANTUM_COMPUTER) # instanciação do objeto quântico\n",
    "if type(quantum_computing) == type(QuantumCircuit()): # verifica se a conexão foi bem sucedida\n",
    "    print('Conexão com o Computador Quântico estabelecida com SUCESSO!') # mensagem de sucesso\n",
    "else: print('ERRO ao estabelecer a conexão com o Computador Quântico.') # mensagem de fracasso\n",
    "# construção da arquitetura do circuito quântico\n",
    "result = quantum_computing.setQubits(nqubits=1) # alocação dos qubits no circuito quântico\n",
    "number1 = 2 # valor clássico do primeiro número\n",
    "number2 = 4 # valor clássico do segundo número\n",
    "result = quantum_computing.addUnitaryGate(qubitIndexName=0, value=number1) # adiciona uma porta quântica de valor unitário\n",
    "result = quantum_computing.addMultiplicationBarrier() # adiciona um barramento quântico de multiplicação\n",
    "result = quantum_computing.addUnitaryGate(qubitIndexName=0, value=number2) # adiciona uma porta quântica de valor unitário\n",
    "# processamento do resultado final calculado\n",
    "result = quantum_computing.showCircuit() # exibição da arquitetura do circuito quântico\n",
    "result = quantum_computing.measurement() # medição do sistema quântico (medição do observador)\n",
    "result = quantum_computing.showMeasurement() # exibição dos estados quânticos de resultado\n",
    "result = quantum_computing.getResult(qubitIndexName=0) # captura do resultado clássico obtido\n",
    "print(f'resultado clássico da operação quântica: {number1} x {number2} = {result}') # exibição do resultado final"
   ]
  },
  {
   "attachments": {},
   "cell_type": "markdown",
   "metadata": {},
   "source": [
    "<h3>Radiciação Quântica</h3>"
   ]
  },
  {
   "cell_type": "code",
   "execution_count": 69,
   "metadata": {},
   "outputs": [
    {
     "name": "stdout",
     "output_type": "stream",
     "text": [
      "Conexão com o Computador Quântico estabelecida com SUCESSO!\n",
      "|Q0>: ───────(8.0)───√───(3.0)───\n",
      "╒══════╤═════════════════╤═══════════════╕\n",
      "│ ID   │ QUANTUM STATE   │ PROBABILITY   │\n",
      "╞══════╪═════════════════╪═══════════════╡\n",
      "│ 1    │ |2.0>           │ 000000000001  │\n",
      "╘══════╧═════════════════╧═══════════════╛\n",
      "resultado clássico da operação quântica: raiz de 8 com expoente 3 = 2.0\n"
     ]
    }
   ],
   "source": [
    "from Neuraline.QuantumPhysics.quantum_computing import QuantumCircuit # classe do circuito quântico\n",
    "from Neuraline.QuantumPhysics.quantum_computing import QUANTUM_COMPUTER # objeto de conexão com o computador quântico\n",
    "# Conexão Remota com o Computador Quântico\n",
    "quantum_computing = QuantumCircuit(architecture=QUANTUM_COMPUTER) # instanciação do objeto quântico\n",
    "if type(quantum_computing) == type(QuantumCircuit()): # verifica se a conexão foi bem sucedida\n",
    "    print('Conexão com o Computador Quântico estabelecida com SUCESSO!') # mensagem de sucesso\n",
    "else: print('ERRO ao estabelecer a conexão com o Computador Quântico.') # mensagem de fracasso\n",
    "# construção da arquitetura do circuito quântico\n",
    "result = quantum_computing.setQubits(nqubits=1) # alocação dos qubits no circuito quântico\n",
    "number1 = 8 # valor clássico do primeiro número\n",
    "number2 = 3 # valor clássico do segundo número\n",
    "result = quantum_computing.addUnitaryGate(qubitIndexName=0, value=number1) # adiciona uma porta quântica de valor unitário\n",
    "result = quantum_computing.addRootBarrier() # adiciona um barramento quântico de raiz\n",
    "result = quantum_computing.addUnitaryGate(qubitIndexName=0, value=number2) # adiciona uma porta quântica de valor unitário\n",
    "# processamento do resultado final calculado\n",
    "result = quantum_computing.showCircuit() # exibição da arquitetura do circuito quântico\n",
    "result = quantum_computing.measurement() # medição do sistema quântico (medição do observador)\n",
    "result = quantum_computing.showMeasurement() # exibição dos estados quânticos de resultado\n",
    "result = quantum_computing.getResult(qubitIndexName=0) # captura do resultado clássico obtido\n",
    "print(f'resultado clássico da operação quântica: raiz de {number1} com expoente {number2} = {result}') # exibição do resultado final"
   ]
  },
  {
   "attachments": {},
   "cell_type": "markdown",
   "metadata": {},
   "source": [
    "<h3>Exponenciação Quântica</h3>"
   ]
  },
  {
   "cell_type": "code",
   "execution_count": 70,
   "metadata": {},
   "outputs": [
    {
     "name": "stdout",
     "output_type": "stream",
     "text": [
      "Conexão com o Computador Quântico estabelecida com SUCESSO!\n",
      "|Q0>: ───────(5.0)───^───(4.0)───\n",
      "╒══════╤═════════════════╤═══════════════╕\n",
      "│ ID   │ QUANTUM STATE   │ PROBABILITY   │\n",
      "╞══════╪═════════════════╪═══════════════╡\n",
      "│ 1    │ |625>           │ 000000000001  │\n",
      "╘══════╧═════════════════╧═══════════════╛\n",
      "resultado clássico da operação quântica: 5 ^ 4 = 625\n"
     ]
    }
   ],
   "source": [
    "from Neuraline.QuantumPhysics.quantum_computing import QuantumCircuit # classe do circuito quântico\n",
    "from Neuraline.QuantumPhysics.quantum_computing import QUANTUM_COMPUTER # objeto de conexão com o computador quântico\n",
    "# Conexão Remota com o Computador Quântico\n",
    "quantum_computing = QuantumCircuit(architecture=QUANTUM_COMPUTER) # instanciação do objeto quântico\n",
    "if type(quantum_computing) == type(QuantumCircuit()): # verifica se a conexão foi bem sucedida\n",
    "    print('Conexão com o Computador Quântico estabelecida com SUCESSO!') # mensagem de sucesso\n",
    "else: print('ERRO ao estabelecer a conexão com o Computador Quântico.') # mensagem de fracasso\n",
    "# construção da arquitetura do circuito quântico\n",
    "result = quantum_computing.setQubits(nqubits=1) # alocação dos qubits no circuito quântico\n",
    "number1 = 5 # valor clássico do primeiro número\n",
    "number2 = 4 # valor clássico do segundo número\n",
    "result = quantum_computing.addUnitaryGate(qubitIndexName=0, value=number1) # adiciona uma porta quântica de valor unitário\n",
    "result = quantum_computing.addPowerBarrier() # adiciona um barramento quântico de potência\n",
    "result = quantum_computing.addUnitaryGate(qubitIndexName=0, value=number2) # adiciona uma porta quântica de valor unitário\n",
    "# processamento do resultado final calculado\n",
    "result = quantum_computing.showCircuit() # exibição da arquitetura do circuito quântico\n",
    "result = quantum_computing.measurement() # medição do sistema quântico (medição do observador)\n",
    "result = quantum_computing.showMeasurement() # exibição dos estados quânticos de resultado\n",
    "result = quantum_computing.getResult(qubitIndexName=0) # captura do resultado clássico obtido\n",
    "print(f'resultado clássico da operação quântica: {number1} ^ {number2} = {result}') # exibição do resultado final"
   ]
  },
  {
   "attachments": {},
   "cell_type": "markdown",
   "metadata": {},
   "source": [
    "<h3>Multiplicação Matricial Quântica</h3>"
   ]
  },
  {
   "cell_type": "code",
   "execution_count": 71,
   "metadata": {},
   "outputs": [
    {
     "name": "stdout",
     "output_type": "stream",
     "text": [
      "Conexão com o Computador Quântico estabelecida com SUCESSO!\n",
      "|Q0>: ───────(2.0)───(3.0)───•───(4.0)───(5.0)───\n",
      "╒══════╤═════════════════╤═══════════════╕\n",
      "│ ID   │ QUANTUM STATE   │ PROBABILITY   │\n",
      "╞══════╪═════════════════╪═══════════════╡\n",
      "│ 1    │ |23>            │ 000000000001  │\n",
      "╘══════╧═════════════════╧═══════════════╛\n",
      "resultado clássico da operação quântica: [2, 3] . [4, 5] = 23\n"
     ]
    }
   ],
   "source": [
    "from Neuraline.QuantumPhysics.quantum_computing import QuantumCircuit # classe do circuito quântico\n",
    "from Neuraline.QuantumPhysics.quantum_computing import QUANTUM_COMPUTER # objeto de conexão com o computador quântico\n",
    "# Conexão Remota com o Computador Quântico\n",
    "quantum_computing = QuantumCircuit(architecture=QUANTUM_COMPUTER) # instanciação do objeto quântico\n",
    "if type(quantum_computing) == type(QuantumCircuit()): # verifica se a conexão foi bem sucedida\n",
    "    print('Conexão com o Computador Quântico estabelecida com SUCESSO!') # mensagem de sucesso\n",
    "else: print('ERRO ao estabelecer a conexão com o Computador Quântico.') # mensagem de fracasso\n",
    "# construção da arquitetura do circuito quântico\n",
    "result = quantum_computing.setQubits(nqubits=1) # alocação dos qubits no circuito quântico\n",
    "array1 = [2, 3] # valor clássico do primeiro array\n",
    "array2 = [4, 5] # valor clássico do segundo array\n",
    "for element in array1: quantum_computing.addUnitaryGate(qubitIndexName=0, value=element) # adiciona uma porta quântica de valor unitário\n",
    "result = quantum_computing.addMatrixMultiplicationBarrier() # adiciona um barramento quântico de multiplicação matricial\n",
    "for element in array2: quantum_computing.addUnitaryGate(qubitIndexName=0, value=element) # adiciona uma porta quântica de valor unitário\n",
    "# processamento do resultado final calculado\n",
    "result = quantum_computing.showCircuit() # exibição da arquitetura do circuito quântico\n",
    "result = quantum_computing.measurement() # medição do sistema quântico (medição do observador)\n",
    "result = quantum_computing.showMeasurement() # exibição dos estados quânticos de resultado\n",
    "result = quantum_computing.getResult(qubitIndexName=0) # captura do resultado clássico obtido\n",
    "print(f'resultado clássico da operação quântica: {array1} . {array2} = {result}') # exibição do resultado final"
   ]
  },
  {
   "attachments": {},
   "cell_type": "markdown",
   "metadata": {},
   "source": [
    "<h3>Multiplicação Tensorial Quântica</h3>"
   ]
  },
  {
   "cell_type": "code",
   "execution_count": 72,
   "metadata": {},
   "outputs": [
    {
     "name": "stdout",
     "output_type": "stream",
     "text": [
      "Conexão com o Computador Quântico estabelecida com SUCESSO!\n",
      "|Q0>: ───────(2.0)───(3.0)───⊗───(4.0)───(5.0)───\n",
      "╒══════╤═════════════════╤═══════════════╕\n",
      "│ ID   │ QUANTUM STATE   │ PROBABILITY   │\n",
      "╞══════╪═════════════════╪═══════════════╡\n",
      "│ 1    │ |8, 10, 12, 15> │ 000000000001  │\n",
      "╘══════╧═════════════════╧═══════════════╛\n",
      "resultado clássico da operação quântica: [2, 3] ⊗ [4, 5] = [[8, 10], [12, 15]]\n"
     ]
    }
   ],
   "source": [
    "from Neuraline.QuantumPhysics.quantum_computing import QuantumCircuit # classe do circuito quântico\n",
    "from Neuraline.QuantumPhysics.quantum_computing import QUANTUM_COMPUTER # objeto de conexão com o computador quântico\n",
    "# Conexão Remota com o Computador Quântico\n",
    "quantum_computing = QuantumCircuit(architecture=QUANTUM_COMPUTER) # instanciação do objeto quântico\n",
    "if type(quantum_computing) == type(QuantumCircuit()): # verifica se a conexão foi bem sucedida\n",
    "    print('Conexão com o Computador Quântico estabelecida com SUCESSO!') # mensagem de sucesso\n",
    "else: print('ERRO ao estabelecer a conexão com o Computador Quântico.') # mensagem de fracasso\n",
    "# construção da arquitetura do circuito quântico\n",
    "result = quantum_computing.setQubits(nqubits=1) # alocação dos qubits no circuito quântico\n",
    "array1 = [2, 3] # valor clássico do primeiro array\n",
    "array2 = [4, 5] # valor clássico do segundo array\n",
    "for element in array1: quantum_computing.addUnitaryGate(qubitIndexName=0, value=element) # adiciona uma porta quântica de valor unitário\n",
    "result = quantum_computing.addTensorProductBarrier(axes=0) # adiciona um barramento quântico de multiplicação tensorial com eixo 0\n",
    "for element in array2: quantum_computing.addUnitaryGate(qubitIndexName=0, value=element) # adiciona uma porta quântica de valor unitário\n",
    "# processamento do resultado final calculado\n",
    "result = quantum_computing.showCircuit() # exibição da arquitetura do circuito quântico\n",
    "result = quantum_computing.measurement() # medição do sistema quântico (medição do observador)\n",
    "result = quantum_computing.showMeasurement() # exibição dos estados quânticos de resultado\n",
    "result = quantum_computing.getResult(qubitIndexName=0) # captura do resultado clássico obtido\n",
    "print(f'resultado clássico da operação quântica: {array1} ⊗ {array2} = {result}') # exibição do resultado final"
   ]
  }
 ],
 "metadata": {
  "kernelspec": {
   "display_name": "Python 3",
   "language": "python",
   "name": "python3"
  },
  "language_info": {
   "codemirror_mode": {
    "name": "ipython",
    "version": 3
   },
   "file_extension": ".py",
   "mimetype": "text/x-python",
   "name": "python",
   "nbconvert_exporter": "python",
   "pygments_lexer": "ipython3",
   "version": "3.10.6"
  },
  "orig_nbformat": 4
 },
 "nbformat": 4,
 "nbformat_minor": 2
}
