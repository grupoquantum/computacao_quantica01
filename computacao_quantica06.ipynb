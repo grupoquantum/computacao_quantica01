{
 "cells": [
  {
   "attachments": {},
   "cell_type": "markdown",
   "metadata": {},
   "source": [
    "<h3>COMPUTAÇÃO QUÂNTICA</h3>\n",
    "<hr>"
   ]
  },
  {
   "attachments": {},
   "cell_type": "markdown",
   "metadata": {},
   "source": [
    "<h4>Importação da Classe e da Arquitetura de Conexão</h4>"
   ]
  },
  {
   "cell_type": "code",
   "execution_count": 15,
   "metadata": {},
   "outputs": [],
   "source": [
    "from Neuraline.QuantumPhysics.quantum_computing import QuantumCircuit # classe do circuito quântico\n",
    "from Neuraline.QuantumPhysics.quantum_computing import QUANTUM_COMPUTER # objeto de conexão com o computador quântico"
   ]
  },
  {
   "attachments": {},
   "cell_type": "markdown",
   "metadata": {},
   "source": [
    "<h4>Emaranhamento/Entrelaçamento Quântico</h4>"
   ]
  },
  {
   "cell_type": "code",
   "execution_count": 17,
   "metadata": {},
   "outputs": [
    {
     "name": "stdout",
     "output_type": "stream",
     "text": [
      "Conexão com o Computador Quântico estabelecida com SUCESSO!\n",
      "|Q0>: ───────H───\n",
      "\n",
      "|Q1>: ───────X───\n",
      "╒══════╤═════════════════╤═══════════════╕\n",
      "│ ID   │ QUANTUM STATE   │ PROBABILITY   │\n",
      "╞══════╪═════════════════╪═══════════════╡\n",
      "│ 1    │ |10>            │ 0.5019531250  │\n",
      "├──────┼─────────────────┼───────────────┤\n",
      "│ 2    │ |11>            │ 0.4980468750  │\n",
      "├──────┼─────────────────┼───────────────┤\n",
      "│ 3    │ |01>            │ 0.0000000000  │\n",
      "├──────┼─────────────────┼───────────────┤\n",
      "│ 4    │ |00>            │ 0.0000000000  │\n",
      "╘══════╧═════════════════╧═══════════════╛\n"
     ]
    }
   ],
   "source": [
    "# Conexão Remota com o Computador Quântico\n",
    "quantum_computing = QuantumCircuit(architecture=QUANTUM_COMPUTER)\n",
    "if type(quantum_computing) == type(QuantumCircuit()): # verifica se a conexão foi bem sucedida\n",
    "    print('Conexão com o Computador Quântico estabelecida com SUCESSO!') # mensagem de sucesso\n",
    "else: print('ERRO ao estabelecer a conexão com o Computador Quântico.') # mensagem de fracasso\n",
    "# construção da arquitetura do circuito quântico\n",
    "result = quantum_computing.setQubits(nqubits=2) # alocação dos qubits no circuito quântico\n",
    "# aplicação das portas quânticas\n",
    "result = quantum_computing.addHadamardGATE(qubitIndexName=0, exponent=1) # adiciona uma porta hadamard no primeiro qubit\n",
    "result = quantum_computing.addPauliXGATE(qubitIndexName=1, exponent=1) # adiciona uma porta pauli x no segundo qubit\n",
    "# aplicação do emaranhamento/entrelaçamento quântico\n",
    "result = quantum_computing.quantumEntanglement(qubitIndexName1=0, qubitIndexName2=1) # primeiro e o segundo qubits emaranhados/entrelaçados\n",
    "result = quantum_computing.swap(qubitIndexName=0) # inverte o spin do primeiro qubit e faz com que o spin do segundo também seja invertido\n",
    "\n",
    "result = quantum_computing.showCircuit() # exibição da arquitetura do circuito quântico\n",
    "result = quantum_computing.measurement() # medição do sistema quântico (medição do observador)\n",
    "result = quantum_computing.showMeasurement() # exibição dos estados quânticos de resultado"
   ]
  }
 ],
 "metadata": {
  "kernelspec": {
   "display_name": "Python 3",
   "language": "python",
   "name": "python3"
  },
  "language_info": {
   "codemirror_mode": {
    "name": "ipython",
    "version": 3
   },
   "file_extension": ".py",
   "mimetype": "text/x-python",
   "name": "python",
   "nbconvert_exporter": "python",
   "pygments_lexer": "ipython3",
   "version": "3.10.6"
  },
  "orig_nbformat": 4,
  "vscode": {
   "interpreter": {
    "hash": "916dbcbb3f70747c44a77c7bcd40155683ae19c65e1c03b4aa3499c5328201f1"
   }
  }
 },
 "nbformat": 4,
 "nbformat_minor": 2
}
