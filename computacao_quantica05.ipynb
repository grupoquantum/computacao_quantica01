{
 "cells": [
  {
   "attachments": {},
   "cell_type": "markdown",
   "metadata": {},
   "source": [
    "<h3>COMPUTAÇÃO QUÂNTICA</h3>\n",
    "<hr>"
   ]
  },
  {
   "attachments": {},
   "cell_type": "markdown",
   "metadata": {},
   "source": [
    "<h4>Importação da Classe e da Arquitetura de Conexão</h4>"
   ]
  },
  {
   "cell_type": "code",
   "execution_count": 1,
   "metadata": {},
   "outputs": [],
   "source": [
    "from Neuraline.QuantumPhysics.quantum_computing import QuantumCircuit # classe do circuito quântico\n",
    "from Neuraline.QuantumPhysics.quantum_computing import QUANTUM_COMPUTER # objeto de conexão com o computador quântico"
   ]
  },
  {
   "attachments": {},
   "cell_type": "markdown",
   "metadata": {},
   "source": [
    "<h4>Criptografia Quântica</h4>"
   ]
  },
  {
   "cell_type": "code",
   "execution_count": 2,
   "metadata": {},
   "outputs": [
    {
     "name": "stdout",
     "output_type": "stream",
     "text": [
      "Conexão com o Computador Quântico estabelecida com SUCESSO!\n",
      "|Q0>: ───────#───H───────\n",
      "             │\n",
      "|Q1>: ───────#───X───@───\n",
      "             │       │\n",
      "|Q2>: ───────#───────X───\n",
      "Texto criptografado:\n",
      "00011100110011001110010101000011011011001000110010001100111001010100001100101100000011001\n",
      "00011001110010101000011000011001000110010001100111001010100001110001100010011001000110011\n",
      "10010101000011101011001000110010001100111001010100001110001100110011000100110011100101010\n",
      "00011010011000100110010001100111001010100001100011100100011001000110011100101010000111110\n",
      "11001100110011100101010000110110110010001100100011001110010101000011101011000000110010001\n",
      "10011100101010000111010110010001100100011001110010101000011010011000100110010001100111001\n",
      "01010000110010110010001100100011001110010101000011111011001100110011100101010000110000110\n",
      "01100110001001100111001010100001111001100100011001000110011100101010000110010110000011100\n"
     ]
    }
   ],
   "source": [
    "# Conexão Remota com o Computador Quântico\n",
    "quantum_computing = QuantumCircuit(architecture=QUANTUM_COMPUTER)\n",
    "if type(quantum_computing) == type(QuantumCircuit()): # verifica se a conexão foi bem sucedida\n",
    "    print('Conexão com o Computador Quântico estabelecida com SUCESSO!') # mensagem de sucesso\n",
    "else: print('ERRO ao estabelecer a conexão com o Computador Quântico.') # mensagem de fracasso\n",
    "# construção da arquitetura do circuito quântico\n",
    "result = quantum_computing.setQubits(nqubits=3) # alocação dos qubits no circuito quântico\n",
    "\n",
    "message = 'Olá mundo quântico!' # mensagem a ser criptografada\n",
    "result = quantum_computing.addEncoderText() # adiciona um codificador a entrada do circuito quântico\n",
    "# adiciona portas quânticas harbitrárias para servirem de chave para a criptografia\n",
    "result = quantum_computing.addGATE(gate='H', qubitIndexNames=[0]) # adiciona a porta quântica Hadamard\n",
    "result = quantum_computing.addGATE(gate='X', qubitIndexNames=[1]) # adiciona a porta quântica Pauli-X\n",
    "result = quantum_computing.addGATE(gate='CNOT', qubitIndexNames=[1, 2]) # adiciona a porta quântica Controlled-NOT\n",
    "result = quantum_computing.showCircuit() # exibição da arquitetura do circuito quântico\n",
    "result = quantum_computing.measurement(data=message) # medição do sistema quântico enviando a mensagem para o circuito\n",
    "encoded_text = quantum_computing.getResult() # captura do resultado final codificado\n",
    "# exibição do resultado da criptografia\n",
    "print(f'Texto criptografado:')\n",
    "import textwrap # módula para quebra de linha\n",
    "wrapper = textwrap.TextWrapper( # método para quebra de linha\n",
    "    width=len(encoded_text)//8 # número máximo de elementos na lista de retorno\n",
    ")\n",
    "word_list = wrapper.wrap( # método para gerar a lista de retorno\n",
    "    text=encoded_text # string que será quebrada em elementos de uma lista\n",
    ") # os elementos da lista terão o tamanho máximo definido no parâmetro width\n",
    "for binaries in word_list: print(binaries) # loop para exibir os elementos quebrados"
   ]
  },
  {
   "attachments": {},
   "cell_type": "markdown",
   "metadata": {},
   "source": [
    "<h4>Decriptografia Quântica</h4>"
   ]
  },
  {
   "cell_type": "code",
   "execution_count": 3,
   "metadata": {},
   "outputs": [
    {
     "name": "stdout",
     "output_type": "stream",
     "text": [
      "Conexão com o Computador Quântico estabelecida com SUCESSO!\n",
      "|Q0>: ───────H───────§───\n",
      "                     │\n",
      "|Q1>: ───────X───@───§───\n",
      "                 │   │\n",
      "|Q2>: ───────────X───§───\n",
      "Texto decriptado: Olá mundo quântico!\n"
     ]
    }
   ],
   "source": [
    "# Conexão Remota com o Computador Quântico\n",
    "quantum_computing = QuantumCircuit(architecture=QUANTUM_COMPUTER)\n",
    "if type(quantum_computing) == type(QuantumCircuit()): # verifica se a conexão foi bem sucedida\n",
    "    print('Conexão com o Computador Quântico estabelecida com SUCESSO!') # mensagem de sucesso\n",
    "else: print('ERRO ao estabelecer a conexão com o Computador Quântico.') # mensagem de fracasso\n",
    "# construção da arquitetura do circuito quântico\n",
    "result = quantum_computing.setQubits(nqubits=3) # alocação dos qubits no circuito quântico\n",
    "\n",
    "# adiciona as portas quânticas na mesma configuração usada para criptografar a mensagem\n",
    "result = quantum_computing.addGATE(gate='H', qubitIndexNames=[0]) # adiciona a porta quântica Hadamard\n",
    "result = quantum_computing.addGATE(gate='X', qubitIndexNames=[1]) # adiciona a porta quântica Pauli-X\n",
    "result = quantum_computing.addGATE(gate='CNOT', qubitIndexNames=[1, 2]) # adiciona a porta quântica Controlled-NOT\n",
    "result = quantum_computing.addDecoderText() # adiciona um decodificador a saída do circuito quântico\n",
    "result = quantum_computing.showCircuit() # exibição da arquitetura do circuito quântico\n",
    "result = quantum_computing.measurement(data=encoded_text) # medição do sistema quântico\n",
    "decoded_text = quantum_computing.getResult() # captura do resultado final decodificado\n",
    "print(f'Texto decriptado: {decoded_text}') # exibição do resultado da descriptografia"
   ]
  }
 ],
 "metadata": {
  "kernelspec": {
   "display_name": "Python 3",
   "language": "python",
   "name": "python3"
  },
  "language_info": {
   "codemirror_mode": {
    "name": "ipython",
    "version": 3
   },
   "file_extension": ".py",
   "mimetype": "text/x-python",
   "name": "python",
   "nbconvert_exporter": "python",
   "pygments_lexer": "ipython3",
   "version": "3.10.6"
  },
  "orig_nbformat": 4,
  "vscode": {
   "interpreter": {
    "hash": "916dbcbb3f70747c44a77c7bcd40155683ae19c65e1c03b4aa3499c5328201f1"
   }
  }
 },
 "nbformat": 4,
 "nbformat_minor": 2
}
